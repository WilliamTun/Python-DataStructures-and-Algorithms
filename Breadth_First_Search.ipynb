{
 "cells": [
  {
   "cell_type": "markdown",
   "metadata": {},
   "source": [
    "# Breadth first search\n",
    "- imagine it is building a tree, one level of the tree is being built at a time\n",
    "- BFS adds all children of starting vertex, before it moves onto grandchildren ect\n",
    "- "
   ]
  },
  {
   "cell_type": "markdown",
   "metadata": {},
   "source": [
    "# Knights tour problem\n",
    "- one knight on a chess board\n",
    "- problem: find a sequence of moves that allows the knight to visit every square on chess board exactly once\n",
    "\n",
    "### Solution:\n",
    "- represent every legal move on chessboard as a graph\n",
    "- use graph algorithm to find a path of length rows x columns -1  ...\n",
    "- and every vertex on graph is visited exactly once\n",
    "- implement DEPTH FIRST SEARCH\n"
   ]
  },
  {
   "cell_type": "markdown",
   "metadata": {},
   "source": [
    "# Depth First Search vs Breadth First Search\n",
    "- whilst BFS builds a search tree one level at a time\n",
    "- DFS builds a search tree by exploring every branch as deeply as possible."
   ]
  },
  {
   "cell_type": "code",
   "execution_count": 5,
   "metadata": {},
   "outputs": [],
   "source": [
    "from enum import Enum\n",
    "from collections import OrderedDict"
   ]
  },
  {
   "cell_type": "code",
   "execution_count": 2,
   "metadata": {},
   "outputs": [],
   "source": [
    "class State(Enum):\n",
    "    unvisited = 1\n",
    "    visited = 2\n",
    "    visiting = 3"
   ]
  },
  {
   "cell_type": "code",
   "execution_count": 4,
   "metadata": {},
   "outputs": [],
   "source": [
    "class Node:\n",
    "    # initialise node\n",
    "    def __init__(self,num):\n",
    "        self.num = num \n",
    "        self.visit_state = State.unvisited\n",
    "        self.adjacent = OrderedDict() # key = node, value = weight\n",
    "    \n",
    "    def __str__(self):\n",
    "        return str(self.num)"
   ]
  },
  {
   "cell_type": "code",
   "execution_count": 6,
   "metadata": {},
   "outputs": [],
   "source": [
    "class Graph:\n",
    "    # initialise graph\n",
    "    def __init__(self):\n",
    "        self.nodes = OrderedDict()\n",
    "        \n",
    "    def add_node(self, num):\n",
    "        node = Node(num)\n",
    "        self.nodes[num] = node\n",
    "        return node\n",
    "    \n",
    "    def add_edge(self, source, dest, weight=0):\n",
    "        '''\n",
    "        source node\n",
    "        destination node\n",
    "        weight associated with edge connection\n",
    "        '''\n",
    "        # if we try and add a source/destination node\n",
    "        # that is currently not in graph\n",
    "        # add the new nodes to the graph\n",
    "        if source not in self.nodes:\n",
    "            self.add_node(source)\n",
    "        if dest not in self.nodes:\n",
    "            self.add_node(dest)\n",
    "            \n",
    "        self.nodes[source].adjacent[self.nodes[dest]] = weight\n",
    "        \n",
    "        "
   ]
  },
  {
   "cell_type": "code",
   "execution_count": 7,
   "metadata": {},
   "outputs": [],
   "source": [
    "g = Graph()"
   ]
  },
  {
   "cell_type": "code",
   "execution_count": 8,
   "metadata": {},
   "outputs": [],
   "source": [
    "g.add_edge(0,1,5) # go from 0 to 1 with weight of 5"
   ]
  },
  {
   "cell_type": "code",
   "execution_count": 10,
   "metadata": {},
   "outputs": [
    {
     "name": "stdout",
     "output_type": "stream",
     "text": [
      "OrderedDict([(0, <__main__.Node object at 0x111eb1828>), (1, <__main__.Node object at 0x111eb1f98>)])\n"
     ]
    }
   ],
   "source": [
    "print(g.nodes) # ordered dictionary with 0 and 1 node"
   ]
  },
  {
   "cell_type": "code",
   "execution_count": 11,
   "metadata": {},
   "outputs": [],
   "source": [
    "g.add_edge(1,2,3) # go from 1 to 2 with weight of 3"
   ]
  },
  {
   "cell_type": "code",
   "execution_count": 12,
   "metadata": {},
   "outputs": [
    {
     "name": "stdout",
     "output_type": "stream",
     "text": [
      "OrderedDict([(0, <__main__.Node object at 0x111eb1828>), (1, <__main__.Node object at 0x111eb1f98>), (2, <__main__.Node object at 0x111eb1e80>)])\n"
     ]
    }
   ],
   "source": [
    "print(g.nodes) "
   ]
  },
  {
   "cell_type": "markdown",
   "metadata": {},
   "source": [
    "# Implement a depth first search\n",
    "- explore every possible vertice from supplied root\n",
    "- down each branch - before backtracking\n",
    "- can be implemented in interative and recursive forms\n",
    "\n",
    "\n",
    "- we need to mark current vertex as \"visited\"\n",
    "- explore each adjacent vertex that is not included in visited set"
   ]
  },
  {
   "cell_type": "code",
   "execution_count": 14,
   "metadata": {},
   "outputs": [],
   "source": [
    "graph = {\"A\": set([\"B\", \"C\"]),\n",
    "         \"B\": set([\"A\", \"D\", \"E\"]), \n",
    "         \"C\": set([\"A\", \"F\"]), \n",
    "         \"D\": set([\"B\"]),\n",
    "         \"E\": set([\"B\", \"F\"]),\n",
    "         \"F\": set([\"C\", \"E\"])}"
   ]
  },
  {
   "cell_type": "code",
   "execution_count": 15,
   "metadata": {},
   "outputs": [],
   "source": [
    "def dfs(graph, start):\n",
    "    visited = set()\n",
    "    stack = [start]\n",
    "    \n",
    "    while stack: \n",
    "        vertex = stack.pop()\n",
    "        \n",
    "        if vertex not in visited:\n",
    "            visited.add(vertex)\n",
    "            \n",
    "            stack.extend(graph[vertex] - visited)\n",
    "    return visited "
   ]
  },
  {
   "cell_type": "code",
   "execution_count": 19,
   "metadata": {},
   "outputs": [
    {
     "data": {
      "text/plain": [
       "{'A', 'B', 'C', 'D', 'E', 'F'}"
      ]
     },
     "execution_count": 19,
     "metadata": {},
     "output_type": "execute_result"
    }
   ],
   "source": [
    "dfs(graph, \"A\") # entire graph we searched"
   ]
  },
  {
   "cell_type": "markdown",
   "metadata": {},
   "source": [
    "# Iterative implementation of finding path from start to end vertexes "
   ]
  },
  {
   "cell_type": "markdown",
   "metadata": {},
   "source": [
    "# Paths and walks and trails\n",
    "\n",
    "### Walk \n",
    "- way of getting from one vertex to another\n",
    "- consist of an alternating sequence of vertices and edges\n",
    "- How to go from A->B->C->B->A\n",
    "- can be represented as: \n",
    "- Walk = {A, 3, B, 2, C, 2, B, 3, A } # where numbers are the edge weights \n",
    "\n",
    "##### Open Walks - when start and vertex is different\n",
    "##### Closed walks - when the start vertex and end vertex is same - due to cycle forming\n",
    "##### Self avoiding walk - sequence of moves that doesn't visit the same point twice\n",
    "\n",
    "\n",
    "### Trails\n",
    "- when all the edges are distinct - and WE CANNOT REPEAT EDGES\n",
    "- but we can repeat vertices\n",
    "- a closed trail is caled a Tour\n",
    "\n",
    "### Paths\n",
    "- A walk such that ALL VERTICES AND EDGES are DISTINCT\n"
   ]
  },
  {
   "cell_type": "code",
   "execution_count": 20,
   "metadata": {},
   "outputs": [],
   "source": [
    "def dfs_path(graph, start, goal):\n",
    "    stack = [(start, [start])]\n",
    "    \n",
    "    while stack:\n",
    "        (vertex, path) = stack.pop()\n",
    "        for nxt in graph[vertex] - set(path):\n",
    "            if nxt == goal:\n",
    "                yield path + [nxt]\n",
    "            else:\n",
    "                stack.append((nxt, path + [nxt]))"
   ]
  },
  {
   "cell_type": "code",
   "execution_count": 23,
   "metadata": {},
   "outputs": [
    {
     "data": {
      "text/plain": [
       "[['A', 'B', 'E', 'F'], ['A', 'C', 'F']]"
      ]
     },
     "execution_count": 23,
     "metadata": {},
     "output_type": "execute_result"
    }
   ],
   "source": [
    "list(dfs_path(graph, \"A\", \"F\"))\n",
    "# list of all possible paths between start and goal node"
   ]
  },
  {
   "cell_type": "markdown",
   "metadata": {},
   "source": [
    "# Breadth first search implemented in iterative manner"
   ]
  },
  {
   "cell_type": "code",
   "execution_count": 24,
   "metadata": {},
   "outputs": [],
   "source": [
    "def bfs(graph, start):\n",
    "    visited = set()\n",
    "    queue = [start] # we replaced dfs stack with a que. \n",
    "    \n",
    "    while queue:\n",
    "        vertex = queue.pop(0)\n",
    "        if vertex not in visited:\n",
    "            visited.add(vertex)\n",
    "            queue.extend(graph[vertex] - visited)\n",
    "    \n",
    "    return visited"
   ]
  },
  {
   "cell_type": "code",
   "execution_count": 25,
   "metadata": {},
   "outputs": [],
   "source": [
    "def bfs_paths(graph, start, goal):\n",
    "    queue = [(start, [start])]\n",
    "    while queue:\n",
    "        (vertex, path) = queue.pop(0)\n",
    "        for next in graph[vertex] - set(path):\n",
    "            if next == goal:\n",
    "                yield path + [next]\n",
    "            else:\n",
    "                queue.append((next, path + [next]))\n"
   ]
  },
  {
   "cell_type": "code",
   "execution_count": 26,
   "metadata": {},
   "outputs": [
    {
     "data": {
      "text/plain": [
       "[['A', 'C', 'F'], ['A', 'B', 'E', 'F']]"
      ]
     },
     "execution_count": 26,
     "metadata": {},
     "output_type": "execute_result"
    }
   ],
   "source": [
    "list(bfs_paths(graph, \"A\", \"F\"))"
   ]
  },
  {
   "cell_type": "code",
   "execution_count": 27,
   "metadata": {},
   "outputs": [],
   "source": [
    "def shortest_path(graph, start, goal):\n",
    "    try:\n",
    "        return next(bfs_paths(graph, start, goal))\n",
    "    except StopIteration:\n",
    "        return None"
   ]
  },
  {
   "cell_type": "code",
   "execution_count": 28,
   "metadata": {},
   "outputs": [
    {
     "data": {
      "text/plain": [
       "['A', 'C', 'F']"
      ]
     },
     "execution_count": 28,
     "metadata": {},
     "output_type": "execute_result"
    }
   ],
   "source": [
    "shortest_path(graph, \"A\", \"F\")"
   ]
  },
  {
   "cell_type": "code",
   "execution_count": null,
   "metadata": {},
   "outputs": [],
   "source": []
  }
 ],
 "metadata": {
  "kernelspec": {
   "display_name": "Python [conda env:will_tun]",
   "language": "python",
   "name": "conda-env-will_tun-py"
  },
  "language_info": {
   "codemirror_mode": {
    "name": "ipython",
    "version": 3
   },
   "file_extension": ".py",
   "mimetype": "text/x-python",
   "name": "python",
   "nbconvert_exporter": "python",
   "pygments_lexer": "ipython3",
   "version": "3.6.6"
  }
 },
 "nbformat": 4,
 "nbformat_minor": 2
}
