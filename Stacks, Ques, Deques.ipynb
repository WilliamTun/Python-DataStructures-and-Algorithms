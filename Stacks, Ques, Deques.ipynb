{
 "cells": [
  {
   "cell_type": "code",
   "execution_count": 1,
   "metadata": {},
   "outputs": [],
   "source": [
    "# Stacks:\n",
    "# Last in first out LIFO\n",
    "\n",
    "# The item is added to top of the stack\n",
    "# the item is removed from top of the stack. \n",
    "# The base of the stack thus contains the item that has been in the longest\n",
    "\n",
    "# |x| top item is PUSHED in first + POPPED (removed) first\n",
    "# |x|\n",
    "# |x|\n",
    "# |x| Base \n"
   ]
  },
  {
   "cell_type": "code",
   "execution_count": 2,
   "metadata": {},
   "outputs": [],
   "source": [
    "# Ques:\n",
    "# Items are added to rear and removed from the front\n",
    "# First in - first out.  FIFO\n",
    "\n",
    "#                                       enqueue BACK         FRONT deque\n",
    "# most recent x waits at the end of the que -->  [x | |  | | 0 ]\n",
    "# 0 is the item in the above diagram that has been in the que the longest\n",
    "# and it is the first to be removed...\n",
    "\n",
    "# Enque - add item to rear of que\n",
    "# Deque - remove item from front of que\n"
   ]
  },
  {
   "cell_type": "code",
   "execution_count": 3,
   "metadata": {},
   "outputs": [],
   "source": [
    "# Deque  / \"double ended que\"\n",
    "# items can be added either at front or rear\n",
    "# items can be removed either at front or rear\n",
    "# ^ essentially provides all capabilities of stacks and ques in a single structure\n",
    "# ^ does not enforce FIFO / LIFO\n",
    "\n",
    "\n"
   ]
  },
  {
   "cell_type": "markdown",
   "metadata": {},
   "source": [
    "# Coding a stack"
   ]
  },
  {
   "cell_type": "code",
   "execution_count": 20,
   "metadata": {},
   "outputs": [],
   "source": [
    "class Stack(object):\n",
    "    \n",
    "    def __init__(self):\n",
    "        self.items = []\n",
    "    \n",
    "    def isEmpty(self):\n",
    "        if self.items == []:\n",
    "            return True\n",
    "    \n",
    "    def push(self, item):\n",
    "        self.items.append(item)\n",
    "        \n",
    "    def pop(self):\n",
    "        return self.items.pop()\n",
    "    \n",
    "    def check_stack(self):\n",
    "        print(self.items)\n",
    "        return self.items[len(self.items) - 1]\n",
    "    \n",
    "    def check_size(self):\n",
    "        return len(self.items)\n",
    "        \n",
    "    "
   ]
  },
  {
   "cell_type": "code",
   "execution_count": 30,
   "metadata": {},
   "outputs": [
    {
     "name": "stdout",
     "output_type": "stream",
     "text": [
      "[1, 2, 3, 4]\n"
     ]
    },
    {
     "data": {
      "text/plain": [
       "4"
      ]
     },
     "execution_count": 30,
     "metadata": {},
     "output_type": "execute_result"
    }
   ],
   "source": [
    "# LIFO\n",
    "a = Stack()\n",
    "a.push(1)\n",
    "a.push(2)\n",
    "a.push(3)\n",
    "a.push(4)\n",
    "a.push(5)\n",
    "a.pop()\n",
    "a.check_stack()\n",
    "a.check_size()"
   ]
  },
  {
   "cell_type": "markdown",
   "metadata": {},
   "source": [
    "# Coding a que"
   ]
  },
  {
   "cell_type": "code",
   "execution_count": 26,
   "metadata": {},
   "outputs": [],
   "source": [
    "class Que(object):\n",
    "    \n",
    "    def __init__(self):\n",
    "        self.items = []\n",
    "    \n",
    "    def isEmpty(self):\n",
    "        if self.items == []:\n",
    "            return True\n",
    "    \n",
    "    def enque(self, item):\n",
    "        self.items.append(item)\n",
    "        \n",
    "    def deque(self):\n",
    "        return self.items.pop(0)\n",
    "    \n",
    "    def check_stack(self):\n",
    "        print(self.items)\n",
    "        return self.items[len(self.items) - 1]\n",
    "    \n",
    "    def check_size(self):\n",
    "        return len(self.items)\n",
    "        "
   ]
  },
  {
   "cell_type": "code",
   "execution_count": 31,
   "metadata": {},
   "outputs": [
    {
     "name": "stdout",
     "output_type": "stream",
     "text": [
      "[3, 4, 5]\n"
     ]
    },
    {
     "data": {
      "text/plain": [
       "3"
      ]
     },
     "execution_count": 31,
     "metadata": {},
     "output_type": "execute_result"
    }
   ],
   "source": [
    "# FIFO\n",
    "a = Que()\n",
    "a.enque(1)\n",
    "a.enque(2)\n",
    "a.enque(3)\n",
    "a.enque(4)\n",
    "a.enque(5)\n",
    "a.deque()\n",
    "a.deque()\n",
    "a.check_stack()\n",
    "a.check_size()"
   ]
  },
  {
   "cell_type": "markdown",
   "metadata": {},
   "source": [
    "# Coding a deque"
   ]
  },
  {
   "cell_type": "code",
   "execution_count": 26,
   "metadata": {},
   "outputs": [],
   "source": [
    "class Deque(object):\n",
    "    \n",
    "    def __init__(self):\n",
    "        self.items = []\n",
    "    \n",
    "    def isEmpty(self):\n",
    "        if self.items == []:\n",
    "            return True\n",
    "    \n",
    "    def addFront(self, item):\n",
    "        self.items.insert(0,item)\n",
    "        \n",
    "    def addRear(self, item):\n",
    "        return self.items.append(item)\n",
    "    \n",
    "    def removeFront(self):\n",
    "        return self.items.pop(0)\n",
    "    \n",
    "    def removeRear(self):\n",
    "        return self.items.pop()\n",
    "    \n",
    "    def check_stack(self):\n",
    "        print(self.items)\n",
    "        return self.items[len(self.items) - 1]\n",
    "    \n",
    "    def return_stack(self):\n",
    "        return self.items\n",
    "    \n",
    "    def check_size(self):\n",
    "        return len(self.items)"
   ]
  },
  {
   "cell_type": "code",
   "execution_count": 37,
   "metadata": {},
   "outputs": [
    {
     "name": "stdout",
     "output_type": "stream",
     "text": [
      "['Front3', 'Front2', 'Front1', 'Rear1', 'Rear2']\n",
      "['Front2', 'Front1', 'Rear1', 'Rear2']\n",
      "['Front2', 'Front1', 'Rear1']\n"
     ]
    },
    {
     "data": {
      "text/plain": [
       "'Rear1'"
      ]
     },
     "execution_count": 37,
     "metadata": {},
     "output_type": "execute_result"
    }
   ],
   "source": [
    "a = Deque()\n",
    "a.addFront(\"Front1\")\n",
    "a.addFront(\"Front2\")\n",
    "a.addFront(\"Front3\")\n",
    "a.addRear(\"Rear1\")\n",
    "a.addRear(\"Rear2\")\n",
    "a.check_stack()\n",
    "a.removeFront()\n",
    "a.check_stack()\n",
    "a.removeRear()\n",
    "a.check_stack()"
   ]
  },
  {
   "cell_type": "markdown",
   "metadata": {},
   "source": [
    "# Problem 1. Check for symmetrical / balanced parenthesis\n",
    "- The input is a list of parenthesis... check if all are balanced... \n",
    "- eg. [\"{[()]}\"] has 3 nested parenthesis :  {}, [] and () \n",
    "- whilst [\"{]]{\"] is not balanced since the nested parenthesis are: {{ and ]] \n",
    "- write a function to check for balance"
   ]
  },
  {
   "cell_type": "code",
   "execution_count": 58,
   "metadata": {},
   "outputs": [
    {
     "name": "stdout",
     "output_type": "stream",
     "text": [
      "[ ]\n",
      "( )\n",
      "{ }\n"
     ]
    },
    {
     "data": {
      "text/plain": [
       "True"
      ]
     },
     "execution_count": 58,
     "metadata": {},
     "output_type": "execute_result"
    }
   ],
   "source": [
    "def check_balance(string):\n",
    "    '''\n",
    "    put this string into a deque \n",
    "    then simultaneously remove from rear and end - and check if match\n",
    "    if not match, return false\n",
    "    else return true\n",
    "    ''' \n",
    "    \n",
    "    string_split = string.split()\n",
    "    \n",
    "    deque = Deque()\n",
    "    \n",
    "    for i in range(0,len(string)):\n",
    "        deque.addRear(string[i])\n",
    "    \n",
    "    #print(deque.return_stack())\n",
    "    while len(deque.return_stack()) > 0: \n",
    "        rear = deque.removeRear()\n",
    "        front = deque.removeFront()\n",
    "        if (front == \"[\" and rear == \"]\"):\n",
    "            print(front, rear)\n",
    "        elif (front == \"{\" and rear == \"}\"):\n",
    "            print(front, rear)\n",
    "        elif (front == \"(\" and rear == \")\"):\n",
    "            print(front, rear)\n",
    "        else:\n",
    "            return(False)\n",
    "            break\n",
    "    \n",
    "    return(True)\n",
    "\n",
    "\n",
    "check_balance(\"[({})]\")"
   ]
  },
  {
   "cell_type": "markdown",
   "metadata": {},
   "source": [
    "# Implement a que using two stacks - i.e 2 lists\n",
    "\n",
    "- we want to have: \n",
    "- 1. a method to fill elements into stack A\n",
    "- 2. but everytime we remove eements from stack A\n",
    "- 3. we put them into elements in stack B \n",
    "- 4. and we want to have a 3rd method for removing elements from stack B"
   ]
  },
  {
   "cell_type": "code",
   "execution_count": 82,
   "metadata": {},
   "outputs": [],
   "source": [
    "class Que2Stacks(object):\n",
    "    def __init__(self):\n",
    "        self.stack1 = []\n",
    "        self.stack2 = [] \n",
    "        \n",
    "    def enqueue(self, element):\n",
    "        self.stack1.append(element)\n",
    "        \n",
    "    def dequeue(self):\n",
    "        popped = self.stack1.pop()\n",
    "        self.stack2.append(popped) \n",
    "        \n",
    "    def dequeue2(self):\n",
    "        self.stack2.pop()\n",
    "        \n",
    "    def check_stack1(self):\n",
    "        print(self.stack1)\n",
    "        \n",
    "    def check_stack2(self):\n",
    "        print(self.stack2)\n",
    "        "
   ]
  },
  {
   "cell_type": "code",
   "execution_count": 83,
   "metadata": {},
   "outputs": [],
   "source": [
    "Q2S = Que2Stacks()"
   ]
  },
  {
   "cell_type": "code",
   "execution_count": 84,
   "metadata": {},
   "outputs": [
    {
     "name": "stdout",
     "output_type": "stream",
     "text": [
      "[1, 2, 3]\n",
      "[]\n",
      "[1]\n",
      "[3, 2]\n"
     ]
    }
   ],
   "source": [
    "Q2S.enqueue(1)\n",
    "Q2S.enqueue(2)\n",
    "Q2S.enqueue(3)\n",
    "\n",
    "Q2S.check_stack1()\n",
    "Q2S.check_stack2()\n",
    "\n",
    "Q2S.dequeue()\n",
    "Q2S.dequeue()\n",
    "\n",
    "Q2S.check_stack1()\n",
    "Q2S.check_stack2()"
   ]
  },
  {
   "cell_type": "code",
   "execution_count": null,
   "metadata": {},
   "outputs": [],
   "source": []
  },
  {
   "cell_type": "code",
   "execution_count": null,
   "metadata": {},
   "outputs": [],
   "source": []
  },
  {
   "cell_type": "code",
   "execution_count": null,
   "metadata": {},
   "outputs": [],
   "source": []
  }
 ],
 "metadata": {
  "kernelspec": {
   "display_name": "Python [conda env:will_tun]",
   "language": "python",
   "name": "conda-env-will_tun-py"
  },
  "language_info": {
   "codemirror_mode": {
    "name": "ipython",
    "version": 3
   },
   "file_extension": ".py",
   "mimetype": "text/x-python",
   "name": "python",
   "nbconvert_exporter": "python",
   "pygments_lexer": "ipython3",
   "version": "3.6.6"
  }
 },
 "nbformat": 4,
 "nbformat_minor": 2
}
