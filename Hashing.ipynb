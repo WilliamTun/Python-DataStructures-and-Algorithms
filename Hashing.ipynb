{
 "cells": [
  {
   "cell_type": "markdown",
   "metadata": {},
   "source": [
    "# Hashing\n",
    "\n",
    "- A hash table is a collection of items which are stored in such a way to make it easier to find them later\n",
    "- Each position of hash table / slots can hold an item and is named by indexes\n",
    "- eg. slot 0 holds item 0, slot 1 holds item 1 ect...\n",
    "- initially all slots are empty and hash table holds no items\n",
    "\n",
    "# Hash functions\n",
    "- function to map an item to a slot\n",
    "- they take any item in the collection and return an integer in the range of slot names between 0 and m-1\n",
    "\n",
    "# Hash function 1: Remainder Method\n",
    "- when presented with an item, the item is divded by the table size and this becomes the slot number\n",
    "- eg. a empty hash table is assigned a size of 11\n",
    "- thus the hash function is h(item) = item%11\n",
    "\n",
    "\n",
    "- Item  |  Hash Value\n",
    "- 54    |  10\n",
    "- 26    |  4\n",
    "- 93    |  5\n",
    "- 17    |  6\n",
    "- 77    |  0\n",
    "- 31    |  9\n",
    "\n",
    "- ^ We are now ready to occupy 6 of 11 slots\n",
    "- this is the LOAD FACTOR (number of items / table size)\n",
    "\n",
    "- [0 | 1 | 2 | 3 | 4 | 5 | 6 | 7 | 8 | 9 | 10]\n",
    "- [77| x | x | x |26 |93 |17 | x | x | 31| 54]\n",
    "\n",
    "\n",
    "# Collisions\n",
    "- What if, whilst implementing remainder method to assign slots to items, two items achieve the same remainder?\n",
    "- eg. 44%11 = 0  and  77%11 = 0  \n",
    "\n",
    "# Perfect hash functions\n",
    "- will map each item to a unique slot\n",
    "- can be achieved by minimising number of collisions\n",
    "- goals of a perfect hash function : easy to compute + minimise collisions via evenly distributing items\n",
    "\n",
    "    \n",
    "# Hash function 2: Folding method\n",
    "- divide item into equal size pieces\n",
    "- add the items together to give resulting hash value\n",
    "\n",
    "- eg. Item: 4365554601\n",
    "- becomes 43+65+55+46+01  = 210\n",
    "- if hash table has 11 slots \n",
    "- 210 % 11 = 1  \n",
    "- so  Item: 4365554601 is assigned to slot 1\n",
    "    \n",
    "    \n",
    "# Hash function 3: Mid Square Method\n",
    "- square the item, extract some portion of resulting digits\n",
    "- eg. Item: 44\n",
    "- 44 ** 2 = 1936 \n",
    "- If hash table has 11 slots\n",
    "- extract 93 from 1936\n",
    "- 93%11 = 5\n",
    "- assign item 44 to slot 5"
   ]
  },
  {
   "cell_type": "code",
   "execution_count": 1,
   "metadata": {},
   "outputs": [
    {
     "data": {
      "text/plain": [
       "119"
      ]
     },
     "execution_count": 1,
     "metadata": {},
     "output_type": "execute_result"
    }
   ],
   "source": [
    "ord(\"w\") # we can use this method to hash strings\n",
    "# thanks to the built in ord value\n",
    "# which returns anumber for each letter string"
   ]
  },
  {
   "cell_type": "markdown",
   "metadata": {},
   "source": [
    "# Collision probing / Rehashing\n",
    "- if there is a collision, deal with it by having one of the collided items fit into the next empty slot found in datastructure\n",
    "- Quadraitc probing. Collision probing varient: skip a slot each time one does a fill\n",
    "    \n",
    "# Collision resolution method 2: Chaining.\n",
    "- Allow each slot to hold a reference to a collection or chain of items. Chaining allows many items to exist at the same location of a hash table.\n"
   ]
  },
  {
   "cell_type": "markdown",
   "metadata": {},
   "source": [
    "# Map\n",
    "- The idea of a dictionary is to use a hash table to get and retrieve items using keys\n",
    "- This is referred to as mapping"
   ]
  },
  {
   "cell_type": "markdown",
   "metadata": {},
   "source": [
    "\n",
    "- del - delete a key value pair\n",
    "- len - return number of key value pairs stored \n"
   ]
  },
  {
   "cell_type": "code",
   "execution_count": 10,
   "metadata": {},
   "outputs": [],
   "source": [
    "class HashTable(object):\n",
    "    '''\n",
    "    - HashTable() - creates a new, empty map\n",
    "    creating a hash table using two lists as a base\n",
    "    '''\n",
    "    \n",
    "    def __init__(self, size):\n",
    "        self.size = size\n",
    "        self.slots = [None] * self.size # creates x number of slots\n",
    "        self.data = [None] * self.size\n",
    "        \n",
    "    def hashfunction(self, key, size):\n",
    "        '''\n",
    "        hash function: remainder method\n",
    "        '''\n",
    "        return key%size\n",
    "    \n",
    "    def rehash(self, oldhash, size):\n",
    "        return(oldhash+1)%size # move along, try to find next empty slot\n",
    "        \n",
    "    def put(self, key, data):\n",
    "        '''\n",
    "        - put(key, val) - add a new key-value pair to the map + if key is already in the map, replace old value with new value\n",
    "        '''\n",
    "        hashvalue = self.hashfunction(key, len(self.slots))\n",
    "        # once we insert the key to get the hash value\n",
    "        # which is the index we wish to put the item\n",
    "        # in the hash table \n",
    "        \n",
    "        # we need to see if key-item is already occupied in given slot\n",
    "        \n",
    "        if self.slots[hashvalue] == None:\n",
    "            self.slots[hashvalue] = key\n",
    "            self.data[hashvalue] = data\n",
    "        # collision case - requires a rehash function\n",
    "        else:\n",
    "            if self.slots[hashvalue] == key:\n",
    "                self.data[hashvalue] = data\n",
    "            else: \n",
    "                nextslot = self.rehash(hashvalue, len(self.slots))\n",
    "                \n",
    "                # try to next slot\n",
    "                while self.slots[nextslot] != None and self.slots[nextslot] != key:\n",
    "                    nextslot = self.rehash(nextslot, len(self.slots))\n",
    "                \n",
    "                # set new key if no key is present\n",
    "                if self.slots[nextslot] == None:\n",
    "                    self.slots[nextslot] = key\n",
    "                    self.data[nextslot] = data\n",
    "                # if new key exist in map, simply replace the old value\n",
    "                else:\n",
    "                    # otherwise just replace the old value\n",
    "                    self.data[nextslot] = data\n",
    "                    \n",
    "    def get(self, key):\n",
    "        '''\n",
    "        - get(key) - given a key, return the value stored in the map or None otherwise\n",
    "        '''\n",
    "        startslot = self.hashfunction(key, len(self.slots)) # tells what slot to start off in search\n",
    "        data = None\n",
    "        stop = False\n",
    "        found = False\n",
    "        position = startslot\n",
    "        # find that key-value pair! \n",
    "        while self.slots[position] != None and not found and not stop:\n",
    "            if self.slots[position] == key:\n",
    "                # we found the key! \n",
    "                found = True\n",
    "                data = self.data[position]\n",
    "            else:\n",
    "                #\n",
    "                position = self.rehash(position, len(self.slots))\n",
    "                if position == startslot:\n",
    "                    stop = True\n",
    "        return data\n",
    "    \n",
    "    def __getitem__(self, key):\n",
    "        return self.get(key)\n",
    "    \n",
    "    def __setitem__(self, key, data):\n",
    "        self.put(key, data)\n",
    "    \n",
    "            \n",
    "    \n",
    "    \n",
    "        "
   ]
  },
  {
   "cell_type": "code",
   "execution_count": 11,
   "metadata": {},
   "outputs": [],
   "source": [
    "h = HashTable(5)"
   ]
  },
  {
   "cell_type": "code",
   "execution_count": 12,
   "metadata": {},
   "outputs": [],
   "source": [
    "h[1] = \"One\"\n",
    "h[2] = \"TWO\"\n",
    "h[3] = \"THREE\""
   ]
  },
  {
   "cell_type": "code",
   "execution_count": 13,
   "metadata": {},
   "outputs": [
    {
     "data": {
      "text/plain": [
       "'THREE'"
      ]
     },
     "execution_count": 13,
     "metadata": {},
     "output_type": "execute_result"
    }
   ],
   "source": [
    "h[3]"
   ]
  }
 ],
 "metadata": {
  "kernelspec": {
   "display_name": "Python [conda env:will_tun]",
   "language": "python",
   "name": "conda-env-will_tun-py"
  },
  "language_info": {
   "codemirror_mode": {
    "name": "ipython",
    "version": 3
   },
   "file_extension": ".py",
   "mimetype": "text/x-python",
   "name": "python",
   "nbconvert_exporter": "python",
   "pygments_lexer": "ipython3",
   "version": "3.6.6"
  }
 },
 "nbformat": 4,
 "nbformat_minor": 2
}
