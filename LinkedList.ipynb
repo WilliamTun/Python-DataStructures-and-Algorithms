{
 "cells": [
  {
   "cell_type": "markdown",
   "metadata": {},
   "source": [
    "# Single Linked List"
   ]
  },
  {
   "cell_type": "code",
   "execution_count": 7,
   "metadata": {},
   "outputs": [],
   "source": [
    "\n",
    "# each node stores a reference to an element \n",
    "# and each node stores a second reference to another node in the linked list\n",
    "\n",
    "#  HEAD NODE                                TAIL NODE\n",
    "# [ A | -> B ] *----* [ B | -> C ] *----* [C | -> None ]  \n",
    "# ----------------TRAVERSING A LIST --------------> "
   ]
  },
  {
   "cell_type": "code",
   "execution_count": 8,
   "metadata": {},
   "outputs": [],
   "source": [
    "# insert element to head of linked List. "
   ]
  },
  {
   "cell_type": "code",
   "execution_count": 6,
   "metadata": {},
   "outputs": [],
   "source": [
    "# LinkedList vs Array\n",
    "\n",
    "# PROS:\n",
    "# - linkedList have constant time insertions and deltions in any position\n",
    "# - Arrays have O(n) time to do same thing\n",
    "# - Linked Lists - can expand without having to specify size ahead of time\n",
    "\n",
    "\n",
    "# CONS:\n",
    "\n",
    "# putting in elements to a linkedList is fast\n",
    "# retrieving kth element of a linkedList can be slow depending on it's size\n",
    "\n"
   ]
  },
  {
   "cell_type": "code",
   "execution_count": 8,
   "metadata": {},
   "outputs": [],
   "source": [
    "class Node(object):\n",
    "    \n",
    "    def __init__(self, element):\n",
    "        self.value = element\n",
    "        self.nextnode = None"
   ]
  },
  {
   "cell_type": "code",
   "execution_count": 9,
   "metadata": {},
   "outputs": [],
   "source": [
    "# make nodes\n",
    "\n",
    "a = Node(1)\n",
    "b = Node(2)\n",
    "c = Node(3)\n",
    "\n",
    "# link these nodes together\n",
    "\n",
    "a.nextnode = b \n",
    "b.nextnode = c\n",
    "c.nextnode = None"
   ]
  },
  {
   "cell_type": "markdown",
   "metadata": {},
   "source": [
    "# Doubly Linked List\n",
    "- each node has a reference to the node before (previous) and after it (next)\n",
    "- These lifts allow a greater variety of constant time updates - eg. insertions and deletions\n",
    "\n",
    "[HEADER SENTINAL] <> [NODE] <> [NODE] <> [TRAILER SENTINAL]\n"
   ]
  },
  {
   "cell_type": "code",
   "execution_count": 1,
   "metadata": {},
   "outputs": [],
   "source": [
    "class DoublyLinkedListNode(object):\n",
    "    def __init__(self, value):\n",
    "        self.value = value\n",
    "        self.next_node = None \n",
    "        self.prev_node = None"
   ]
  },
  {
   "cell_type": "code",
   "execution_count": 2,
   "metadata": {},
   "outputs": [],
   "source": [
    "# create nodes\n",
    "a = DoublyLinkedListNode(1)\n",
    "b = DoublyLinkedListNode(2)\n",
    "c = DoublyLinkedListNode(2)"
   ]
  },
  {
   "cell_type": "code",
   "execution_count": 3,
   "metadata": {},
   "outputs": [],
   "source": [
    "# creae a doubly linked list\n",
    "a.next_node = b \n",
    "b.prev_node = a \n",
    "\n",
    "b.next_node = c\n",
    "c.prev_node = a"
   ]
  },
  {
   "cell_type": "code",
   "execution_count": null,
   "metadata": {},
   "outputs": [],
   "source": []
  },
  {
   "cell_type": "markdown",
   "metadata": {},
   "source": [
    "# Problem 1 - \n",
    "- Given a singly linked list, write a function which takes in first node\n",
    "- and return a boolean indicicating whether the list is a cycle\n",
    "- a cycle is when a nodes next point links back to a previous node in the list"
   ]
  },
  {
   "cell_type": "code",
   "execution_count": 11,
   "metadata": {},
   "outputs": [
    {
     "name": "stdout",
     "output_type": "stream",
     "text": [
      "cycle check\n"
     ]
    },
    {
     "data": {
      "text/plain": [
       "False"
      ]
     },
     "execution_count": 11,
     "metadata": {},
     "output_type": "execute_result"
    }
   ],
   "source": [
    "def cycle_check(node):\n",
    "    '''\n",
    "    take in a node \n",
    "    and return a boolean \n",
    "    to indicate that whether we have a cycle \n",
    "    \n",
    "    - we need two markers that traverse through the list \n",
    "    - we have a marker that increments by 1\n",
    "    - we have a marker that increments by greater than 1\n",
    "    \n",
    "    - if not cycle, the two markers will never meet up\n",
    "    - if cycle, the two markers will meet due to cycle. \n",
    "    '''\n",
    "    \n",
    "    print(\"cycle check\")\n",
    "    \n",
    "    marker1 = node\n",
    "    marker2 = node\n",
    "    \n",
    "    while marker2 != None and marker2.nextnode != None:\n",
    "        marker1 = marker1.nextnode\n",
    "        marker2 = marker2.nextnode.nextnode\n",
    "        \n",
    "        if marker2 == marker1:\n",
    "            return True\n",
    "    \n",
    "    return False\n",
    "\n",
    "cycle_check(node=c)"
   ]
  },
  {
   "cell_type": "markdown",
   "metadata": {},
   "source": [
    "# Problem 2 - Linked List Reversal\n",
    "- we want to reverse a linkedIn\n",
    "- the function will take in head of list \n",
    "- and return last node\n"
   ]
  },
  {
   "cell_type": "code",
   "execution_count": 20,
   "metadata": {},
   "outputs": [],
   "source": [
    "def reverse_linkedList(head):\n",
    "    '''\n",
    "    eg.\n",
    "    # [1] > [2] > [3] > [4]\n",
    "    # should become: \n",
    "    # [4] > [3] > [2] > [1]\n",
    "    '''\n",
    "    current = head \n",
    "    previous = None\n",
    "    nextnode = None\n",
    "    \n",
    "    while current: # let us know until we go through end of list\n",
    "        # copy current nodes next node to nextnode\n",
    "        # before overwriting previous node for reversal\n",
    "\n",
    "        nextnode = current.nextnode \n",
    "        current.nextnode = previous\n",
    "        previous = current\n",
    "        current = nextnode\n",
    "    \n",
    "    return(previous)\n",
    "  \n",
    "a = Node(1)\n",
    "b = Node(2)\n",
    "c = Node(3)\n",
    "d = Node(4)\n",
    "\n",
    "# link these nodes together\n",
    "\n",
    "a.nextnode = b \n",
    "b.nextnode = c\n",
    "c.nextnode = d\n",
    "\n",
    "\n",
    "\n",
    "z=reverse_linkedList(head=a)"
   ]
  },
  {
   "cell_type": "code",
   "execution_count": 22,
   "metadata": {},
   "outputs": [
    {
     "data": {
      "text/plain": [
       "4"
      ]
     },
     "execution_count": 22,
     "metadata": {},
     "output_type": "execute_result"
    }
   ],
   "source": [
    "z.value"
   ]
  },
  {
   "cell_type": "markdown",
   "metadata": {},
   "source": [
    "# Problem 3 - Linked List Nth to Last node\n",
    "\n",
    "- function will take in nth node\n",
    "- and then return value of node at nth node of list"
   ]
  },
  {
   "cell_type": "code",
   "execution_count": 40,
   "metadata": {},
   "outputs": [
    {
     "data": {
      "text/plain": [
       "<__main__.Node at 0x10f994080>"
      ]
     },
     "execution_count": 40,
     "metadata": {},
     "output_type": "execute_result"
    }
   ],
   "source": [
    "# nth to last node in linked list.\n",
    "def find_value_of_nth_node(head_node, n):\n",
    "    '''\n",
    "    Essentially this function creates a sliding window\n",
    "    when n = 2\n",
    "    \n",
    "    head  -    -   tail\n",
    "    [1]  [2]  [3]  [4]   [5]  [6]  [7]  [8] \n",
    "    \n",
    "         head  -    -   tail\n",
    "    [1]  [2]  [3]  [4]   [5]  [6]  [7]  [8] \n",
    "    \n",
    "              head  -    -   tail\n",
    "    [1]  [2]  [3]  [4]   [5]  [6]  [7]  [8] \n",
    "    \n",
    "                   head  -    -   tail\n",
    "    [1]  [2]  [3]  [4]   [5]  [6]  [7]  [8] \n",
    "                        \n",
    "                        # WE WANT THE HEAD NODE - \n",
    "                        head  -    -   tail\n",
    "    [1]  [2]  [3]  [4]   [5]  [6]  [7]  [8] \n",
    "    \n",
    "    '''\n",
    "    \n",
    "    left_pointer = head_node\n",
    "    right_pointer = head_node # right pointer will be n nodes down list\n",
    "    \n",
    "    for i in range(0, n-1):\n",
    "        if not right_pointer.nextnode:\n",
    "            raise LookUpError(\"n larger than linked list\")\n",
    "        right_pointer = right_pointer.nextnode\n",
    "    \n",
    "    # sliding window - until right pointer has reached final node.\n",
    "    while right_pointer.nextnode:\n",
    "        left_pointer = left_pointer.nextnode\n",
    "        right_pointer = right_pointer.nextnode\n",
    "        \n",
    "    # once we reach last node with right pointer\n",
    "    # we know left pointer is now nth to last node \n",
    "    # in the linkedList\n",
    "    return(left_pointer)\n",
    "    \n",
    "a = Node(1)\n",
    "b = Node(2)\n",
    "c = Node(3)\n",
    "d = Node(4)\n",
    "e = Node(5)\n",
    "f = Node(6)\n",
    "g = Node(7)\n",
    "h = Node(8)\n",
    "\n",
    "# link these nodes together\n",
    "\n",
    "a.nextnode = b \n",
    "b.nextnode = c\n",
    "c.nextnode = d\n",
    "d.nextnode = e\n",
    "e.nextnode = f\n",
    "f.nextnode = g\n",
    "h.nextnode = None\n",
    "\n",
    "zz = find_value_of_nth_node(head_node=a, n=4)\n",
    "zz.nextnode"
   ]
  },
  {
   "cell_type": "code",
   "execution_count": null,
   "metadata": {},
   "outputs": [],
   "source": []
  }
 ],
 "metadata": {
  "kernelspec": {
   "display_name": "Python [conda env:will_tun]",
   "language": "python",
   "name": "conda-env-will_tun-py"
  },
  "language_info": {
   "codemirror_mode": {
    "name": "ipython",
    "version": 3
   },
   "file_extension": ".py",
   "mimetype": "text/x-python",
   "name": "python",
   "nbconvert_exporter": "python",
   "pygments_lexer": "ipython3",
   "version": "3.6.6"
  }
 },
 "nbformat": 4,
 "nbformat_minor": 2
}
