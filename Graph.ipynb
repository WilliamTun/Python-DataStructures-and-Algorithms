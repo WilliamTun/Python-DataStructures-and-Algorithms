{
 "cells": [
  {
   "cell_type": "markdown",
   "metadata": {},
   "source": [
    "# Graphs\n",
    "- models relationships between objects\n",
    "### Graph jargon\n",
    "- vertices/nodes = objects\n",
    "- edges = show connection / relationship between two vertices/nodes/objects\n",
    "- degree - how many edges are connected to vertex x\n",
    "- graph order - number of vertices / nodes\n",
    "- graph size - number of edges\n",
    "- degree sequence - degrees of all vertices written in sequential order from smallest to largest\n",
    "\n",
    "### Sets\n",
    "- vertex set - set of all vertices - V(G) is set of vertices\n",
    "- edge set - set of all edges - E(G) is set of edges\n",
    "- V(G) = {A,B,C,D,E} # VERTICE set\n",
    "- E(G) = {AB, AD, BC, CD, DE}  # accompanying EDGE set \n",
    "\n",
    "### subset - subset of the main graph\n",
    "- V(subsetG) = {A, B, C, D} # no E! \n",
    "- E(subsetG) = {AB, AD, BC, CD}\n"
   ]
  },
  {
   "cell_type": "markdown",
   "metadata": {},
   "source": [
    "# Graph Isomorphism \n",
    "- when two graphs has same vertices and are connected in the same way to each other\n",
    "\n",
    "# Graph Automorphism\n",
    "- comparing a graph to itself via lines of symmetry"
   ]
  },
  {
   "cell_type": "code",
   "execution_count": null,
   "metadata": {},
   "outputs": [],
   "source": []
  },
  {
   "cell_type": "markdown",
   "metadata": {},
   "source": [
    "# Adjacency Matrix\n",
    "- easiest way to implement a graph\n",
    "- each row and columns represent a vertex in the graph\n",
    "- value stored in cell at intersection of row v and column w\n",
    "- when two vertices are connected by an edge, we say they are \"adjacent\"\n",
    "\n",
    "- Problem: Matrices can be wasteful due to sparsity problem"
   ]
  },
  {
   "cell_type": "markdown",
   "metadata": {},
   "source": [
    "# Adjacency List\n",
    "- each vertex object in the graph maintains a list of the other vertices that it is connected tp\n",
    "- we also use a dictionary for this \n",
    "- the keys are the vertice\n",
    "- the values are the weights"
   ]
  },
  {
   "cell_type": "code",
   "execution_count": 4,
   "metadata": {},
   "outputs": [
    {
     "data": {
      "text/plain": [
       "{'V0': {'V1': 5, 'V5': 2}, 'V1': {'V2': 5}}"
      ]
     },
     "execution_count": 4,
     "metadata": {},
     "output_type": "execute_result"
    }
   ],
   "source": [
    "{\"V0\":{\"V1\":5, \"V5\":2}, \"V1\":{\"V2\":5}}\n",
    "# KEYS = vertice\n",
    "# Values = dictionary of other connected vertice + weights"
   ]
  },
  {
   "cell_type": "code",
   "execution_count": 5,
   "metadata": {},
   "outputs": [],
   "source": [
    "# Each vertex uses a dictionary to keep track of connected vertices and weights\n"
   ]
  },
  {
   "cell_type": "code",
   "execution_count": 6,
   "metadata": {},
   "outputs": [],
   "source": [
    "class Vertex:\n",
    "    def __init__(self, key):\n",
    "        self.id = key\n",
    "        self.connectedTo = {}\n",
    "        \n",
    "    def addNeighbour(self, neighbour, weight=0):\n",
    "    # getConnections method returns all of the vertices in adjacency list\n",
    "        self.connectedTo[neighbour] = weight\n",
    "        \n",
    "    def getConnections(self):\n",
    "    # getConnections method returns all of the vertices in adjacency list\n",
    "        return self.connectedTo.keys()\n",
    "    \n",
    "    def getID(self):\n",
    "        return(self.id)\n",
    "    \n",
    "    def getWeight(self, neighbour):\n",
    "    # getWeight returns weight of edge from vertex to vertex    \n",
    "        return self.connectedTo[neighbour]\n",
    "    \n",
    "    def __str__(self):\n",
    "        return str(self.id)+\" connected to: \" + str([x.id for x in self.connectedTo])\n",
    "        "
   ]
  },
  {
   "cell_type": "code",
   "execution_count": null,
   "metadata": {},
   "outputs": [],
   "source": []
  },
  {
   "cell_type": "code",
   "execution_count": 24,
   "metadata": {},
   "outputs": [],
   "source": [
    "class Graph:\n",
    "    \n",
    "    def __init__(self):\n",
    "        self.vertList = {}\n",
    "        self.numVertices = 0 \n",
    "    \n",
    "    def addVertex(self, key):\n",
    "        # add 1 to self\n",
    "        self.numVertices = self.numVertices + 1\n",
    "        newVertex = Vertex(key) # new vertex object ^ use above class\n",
    "        self.vertList[key] = newVertex\n",
    "        return newVertex\n",
    "    \n",
    "    def getVertex(self, n):\n",
    "        if n in self.vertList:\n",
    "            return self.vertList[n]\n",
    "        else:\n",
    "            return None\n",
    "        \n",
    "    def addEdge(self, f, t, cost=0):\n",
    "        '''\n",
    "        f = from vertex\n",
    "        t = to vertex\n",
    "        cost = weight of connection\n",
    "        '''\n",
    "        # Check if f and t is in vertex dictionary\n",
    "        if f not in self.vertList:\n",
    "            nv = self.addVertex(f)\n",
    "        if t not in self.vertList:\n",
    "            nv = self.addVertex(t)\n",
    "            \n",
    "        \n",
    "        self.vertList[f].addNeighbour(self.vertList[t], cost)\n",
    "        \n",
    "    def getVertices(self):\n",
    "        return self.vertList.keys()\n",
    "    \n",
    "    def __iter__(self):\n",
    "        return(iter(self.vertList.values()))\n",
    "    \n",
    "    def __contains(self, n):\n",
    "        return n in self.vertList\n",
    "        "
   ]
  },
  {
   "cell_type": "code",
   "execution_count": 9,
   "metadata": {},
   "outputs": [
    {
     "name": "stdout",
     "output_type": "stream",
     "text": [
      "in dictionary!\n"
     ]
    }
   ],
   "source": [
    "# getVertex method - to understand the concept\n",
    "d = {\"k1\":1}\n",
    "if \"k1\" in d:\n",
    "    print(\"in dictionary!\") # if key is present in dictionary.\n",
    "        "
   ]
  },
  {
   "cell_type": "code",
   "execution_count": 25,
   "metadata": {},
   "outputs": [],
   "source": [
    "g = Graph()"
   ]
  },
  {
   "cell_type": "code",
   "execution_count": 26,
   "metadata": {},
   "outputs": [],
   "source": [
    "for i in range(6):\n",
    "    g.addVertex(i)"
   ]
  },
  {
   "cell_type": "code",
   "execution_count": 27,
   "metadata": {},
   "outputs": [
    {
     "data": {
      "text/plain": [
       "{0: <__main__.Vertex at 0x1072082b0>,\n",
       " 1: <__main__.Vertex at 0x1072085f8>,\n",
       " 2: <__main__.Vertex at 0x10720f320>,\n",
       " 3: <__main__.Vertex at 0x10720f2b0>,\n",
       " 4: <__main__.Vertex at 0x10720f550>,\n",
       " 5: <__main__.Vertex at 0x10720f198>}"
      ]
     },
     "execution_count": 27,
     "metadata": {},
     "output_type": "execute_result"
    }
   ],
   "source": [
    "g.vertList"
   ]
  },
  {
   "cell_type": "code",
   "execution_count": 28,
   "metadata": {},
   "outputs": [],
   "source": [
    "g.addEdge(0, 1, 50)  # from vertex 0, we connect to vertex 1 and add weight of 50"
   ]
  },
  {
   "cell_type": "code",
   "execution_count": 29,
   "metadata": {},
   "outputs": [
    {
     "name": "stdout",
     "output_type": "stream",
     "text": [
      "0 connected to: [1]\n",
      "dict_keys([<__main__.Vertex object at 0x1072085f8>])\n",
      "----\n",
      "1 connected to: []\n",
      "dict_keys([])\n",
      "----\n",
      "2 connected to: []\n",
      "dict_keys([])\n",
      "----\n",
      "3 connected to: []\n",
      "dict_keys([])\n",
      "----\n",
      "4 connected to: []\n",
      "dict_keys([])\n",
      "----\n",
      "5 connected to: []\n",
      "dict_keys([])\n",
      "----\n"
     ]
    }
   ],
   "source": [
    "for vertex in g:\n",
    "    print( vertex )\n",
    "    print( vertex.getConnections())\n",
    "    print (\"----\") "
   ]
  },
  {
   "cell_type": "code",
   "execution_count": null,
   "metadata": {},
   "outputs": [],
   "source": []
  }
 ],
 "metadata": {
  "kernelspec": {
   "display_name": "Python [conda env:will_tun]",
   "language": "python",
   "name": "conda-env-will_tun-py"
  },
  "language_info": {
   "codemirror_mode": {
    "name": "ipython",
    "version": 3
   },
   "file_extension": ".py",
   "mimetype": "text/x-python",
   "name": "python",
   "nbconvert_exporter": "python",
   "pygments_lexer": "ipython3",
   "version": "3.6.6"
  }
 },
 "nbformat": 4,
 "nbformat_minor": 2
}
