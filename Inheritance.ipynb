{
 "cells": [
  {
   "cell_type": "code",
   "execution_count": null,
   "metadata": {},
   "outputs": [],
   "source": [
    "# First in First out"
   ]
  },
  {
   "cell_type": "code",
   "execution_count": 35,
   "metadata": {},
   "outputs": [],
   "source": [
    "class Stack(object):\n",
    "    def __init__(self):\n",
    "        self.__my_list = [] # __ infront of every variable prevents accesibiloty from other object\n",
    "\n",
    "    def push(self, item):\n",
    "        self.__my_list.append(item)\n",
    "    \n",
    "    def pop(self):\n",
    "        popped_item = self.__my_list.pop(0)\n",
    "        return(popped_item)\n",
    "    \n",
    "    def return_list(self):\n",
    "        return(self.__my_list)\n",
    "        \n",
    "\n",
    "# object cannot access my list variable"
   ]
  },
  {
   "cell_type": "code",
   "execution_count": 37,
   "metadata": {},
   "outputs": [],
   "source": [
    "class MaxStack(Stack):\n",
    "    def __init__(self, max_num):\n",
    "        super().__init__()     # inhereit the main object from the super class\n",
    "        self.__max_num_var = max_num\n",
    "\n",
    "    def push(self, item):\n",
    "        if len(self.__my_list) < self.__max_num_var: \n",
    "            #self.__my_list.append(item)\n",
    "            super().push(item) # inherit the super class + push method\n",
    "        else: \n",
    "            raise Exception(\"maximum numebr of items reached\") # built in exception class"
   ]
  },
  {
   "cell_type": "code",
   "execution_count": null,
   "metadata": {},
   "outputs": [],
   "source": []
  },
  {
   "cell_type": "code",
   "execution_count": null,
   "metadata": {},
   "outputs": [],
   "source": []
  },
  {
   "cell_type": "code",
   "execution_count": 26,
   "metadata": {},
   "outputs": [
    {
     "name": "stdout",
     "output_type": "stream",
     "text": [
      "success\n"
     ]
    }
   ],
   "source": [
    "# Unit test\n",
    "a = Stack()\n",
    "\n",
    "def test_FI(object_in):\n",
    "    '''\n",
    "    This function will test whether items are pushed in the correct order\n",
    "    '''\n",
    "    object_in.push(\"A\")\n",
    "    object_in.push(\"B\")\n",
    "    object_in.push(\"C\")    \n",
    "    ListComp = [x for x in object_in.return_list()]\n",
    "    assert ListComp == [\"A\", \"B\", \"C\"]\n",
    "    print(\"success\")\n",
    "    \n",
    "test_FI(object_in=a)"
   ]
  },
  {
   "cell_type": "code",
   "execution_count": 34,
   "metadata": {},
   "outputs": [
    {
     "name": "stdout",
     "output_type": "stream",
     "text": [
      "success\n"
     ]
    }
   ],
   "source": [
    "a = Stack()\n",
    "\n",
    "def test_FO(object_in):\n",
    "    object_in.push(\"A\")\n",
    "    object_in.push(\"B\")\n",
    "    object_in.push(\"C\")\n",
    "    my_list = object_in.return_list()\n",
    "\n",
    "    popped_out_list = []\n",
    "    for i in range(0, len(my_list)):\n",
    "        popped_out = object_in.pop()\n",
    "        popped_out_list.append(popped_out)\n",
    "        \n",
    "    assert popped_out_list == [\"A\", \"B\", \"C\"]\n",
    "    print(\"success\")\n",
    "test_FO(object_in=a)"
   ]
  },
  {
   "cell_type": "code",
   "execution_count": null,
   "metadata": {},
   "outputs": [],
   "source": [
    "# extend class by finding maximum number of items que can have. \n",
    "# when we instatiate object, we want to contrain to a maximum number via a parameter. "
   ]
  },
  {
   "cell_type": "code",
   "execution_count": null,
   "metadata": {},
   "outputs": [],
   "source": []
  },
  {
   "cell_type": "code",
   "execution_count": null,
   "metadata": {},
   "outputs": [],
   "source": []
  },
  {
   "cell_type": "code",
   "execution_count": 10,
   "metadata": {},
   "outputs": [],
   "source": [
    "a = Stack()"
   ]
  },
  {
   "cell_type": "code",
   "execution_count": 11,
   "metadata": {},
   "outputs": [],
   "source": [
    "a.push(\"A\")"
   ]
  },
  {
   "cell_type": "code",
   "execution_count": null,
   "metadata": {},
   "outputs": [],
   "source": [
    "# internal list is accessible by an extenal object. "
   ]
  },
  {
   "cell_type": "code",
   "execution_count": null,
   "metadata": {},
   "outputs": [],
   "source": []
  },
  {
   "cell_type": "code",
   "execution_count": null,
   "metadata": {},
   "outputs": [],
   "source": []
  },
  {
   "cell_type": "code",
   "execution_count": 12,
   "metadata": {},
   "outputs": [
    {
     "ename": "AttributeError",
     "evalue": "'Stack' object has no attribute 'my_list'",
     "output_type": "error",
     "traceback": [
      "\u001b[0;31m---------------------------------------------------------------------------\u001b[0m",
      "\u001b[0;31mAttributeError\u001b[0m                            Traceback (most recent call last)",
      "\u001b[0;32m<ipython-input-12-5937f0167e88>\u001b[0m in \u001b[0;36m<module>\u001b[0;34m\u001b[0m\n\u001b[0;32m----> 1\u001b[0;31m \u001b[0ma\u001b[0m\u001b[0;34m.\u001b[0m\u001b[0mmy_list\u001b[0m\u001b[0;34m.\u001b[0m\u001b[0mappend\u001b[0m\u001b[0;34m(\u001b[0m\u001b[0;34m\"Z\"\u001b[0m\u001b[0;34m)\u001b[0m\u001b[0;34m\u001b[0m\u001b[0m\n\u001b[0m",
      "\u001b[0;31mAttributeError\u001b[0m: 'Stack' object has no attribute 'my_list'"
     ]
    }
   ],
   "source": [
    "a.my_list.append(\"Z\")"
   ]
  },
  {
   "cell_type": "code",
   "execution_count": 13,
   "metadata": {},
   "outputs": [
    {
     "ename": "AttributeError",
     "evalue": "'Stack' object has no attribute 'my_list'",
     "output_type": "error",
     "traceback": [
      "\u001b[0;31m---------------------------------------------------------------------------\u001b[0m",
      "\u001b[0;31mAttributeError\u001b[0m                            Traceback (most recent call last)",
      "\u001b[0;32m<ipython-input-13-60acc8e343e0>\u001b[0m in \u001b[0;36m<module>\u001b[0;34m\u001b[0m\n\u001b[0;32m----> 1\u001b[0;31m \u001b[0ma\u001b[0m\u001b[0;34m.\u001b[0m\u001b[0mmy_list\u001b[0m\u001b[0;34m\u001b[0m\u001b[0m\n\u001b[0m",
      "\u001b[0;31mAttributeError\u001b[0m: 'Stack' object has no attribute 'my_list'"
     ]
    }
   ],
   "source": [
    "a.my_list"
   ]
  }
 ],
 "metadata": {
  "kernelspec": {
   "display_name": "Python [conda env:will_tun]",
   "language": "python",
   "name": "conda-env-will_tun-py"
  },
  "language_info": {
   "codemirror_mode": {
    "name": "ipython",
    "version": 3
   },
   "file_extension": ".py",
   "mimetype": "text/x-python",
   "name": "python",
   "nbconvert_exporter": "python",
   "pygments_lexer": "ipython3",
   "version": "3.6.6"
  }
 },
 "nbformat": 4,
 "nbformat_minor": 2
}
