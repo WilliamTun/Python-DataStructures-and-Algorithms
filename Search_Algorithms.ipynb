{
 "cells": [
  {
   "cell_type": "markdown",
   "metadata": {},
   "source": [
    "# Sequential Search\n",
    "- sequentially go through data element in order until you find the element\n",
    "- If element is not present in array, then a lot of time is wasted searching through every element in array\n",
    "- efficiency depends on if array to be searched in ordered or unordered"
   ]
  },
  {
   "cell_type": "code",
   "execution_count": 1,
   "metadata": {},
   "outputs": [],
   "source": [
    "def sequential_search(array, element):\n",
    "    '''\n",
    "    Inputs:\n",
    "    Array to search through\n",
    "    Element we are trying to find\n",
    "    '''\n",
    "    pos = 0 # position counter\n",
    "    found = False # become true if we find element in list\n",
    "    \n",
    "    while pos < len(array) and not found:\n",
    "        \n",
    "        if array[pos] == element:\n",
    "            found = True\n",
    "        \n",
    "        else: \n",
    "            pos += 1\n",
    "    \n",
    "    return found\n",
    "    "
   ]
  },
  {
   "cell_type": "code",
   "execution_count": 4,
   "metadata": {},
   "outputs": [
    {
     "name": "stdout",
     "output_type": "stream",
     "text": [
      "False\n",
      "True\n"
     ]
    }
   ],
   "source": [
    "print(sequential_search(array=[1,2,3,4,5], element=6)) # 6 does not exist\n",
    "print(sequential_search(array=[1,2,3,4,5], element=3)) # 3 does exist"
   ]
  },
  {
   "cell_type": "code",
   "execution_count": 5,
   "metadata": {},
   "outputs": [],
   "source": [
    "def ordered_sequential_search(array, element):\n",
    "    '''\n",
    "    Inputs:\n",
    "    Array to search through - INPUT ARRAY MUST BE ORDERED\n",
    "    Element we are trying to find\n",
    "    + If we find element - we stop the search. \n",
    "    '''\n",
    "    pos = 0 # position counter\n",
    "    found = False # become true if we find element in list\n",
    "    stopped = False # stop if element is found in ordered array\n",
    "    while pos < len(array) and not found and not stopped:\n",
    "        \n",
    "        if array[pos] == element:\n",
    "            found = True\n",
    "            \n",
    "        \n",
    "        else:\n",
    "            if array[pos] > element: # we stop if element is greater than target \n",
    "                stopped = True\n",
    "            \n",
    "            else:\n",
    "                pos += 1\n",
    "    \n",
    "    return found"
   ]
  },
  {
   "cell_type": "code",
   "execution_count": 8,
   "metadata": {},
   "outputs": [
    {
     "name": "stdout",
     "output_type": "stream",
     "text": [
      "False\n",
      "True\n"
     ]
    }
   ],
   "source": [
    "print(ordered_sequential_search(array=[1,2,3,4,5,6,7,8,9,10], element=12))\n",
    "print(ordered_sequential_search(array=[1,2,3,4,5,6,7,8,9,10], element=5))\n"
   ]
  },
  {
   "cell_type": "markdown",
   "metadata": {},
   "source": [
    "# Binary Search\n",
    "- requires ordered list\n",
    "- examines middle item. \n",
    "- If item being searched for is greater than middle, we can discard lower half of list\n",
    "- and vice versa\n",
    "- stop search when element is found"
   ]
  },
  {
   "cell_type": "code",
   "execution_count": 11,
   "metadata": {},
   "outputs": [],
   "source": [
    "def binary_search(array, element):\n",
    "    '''\n",
    "    array must be sorted\n",
    "    '''\n",
    "    first = 0 # indexing start at 1\n",
    "    last = len(array) - 1\n",
    "    found = False\n",
    "    \n",
    "    while first <= last and not found:\n",
    "        \n",
    "        mid = int((first+last)/2)\n",
    "        \n",
    "        # check if match found, if not set up new mid points\n",
    "        if array[mid] == element:\n",
    "            found = True\n",
    "        else:\n",
    "            if element < array[mid]: # change \"last\" index\n",
    "                last = mid-1\n",
    "            \n",
    "            else:\n",
    "                first = mid+1 # change \"first\" index\n",
    "    \n",
    "    return found"
   ]
  },
  {
   "cell_type": "code",
   "execution_count": 14,
   "metadata": {},
   "outputs": [
    {
     "name": "stdout",
     "output_type": "stream",
     "text": [
      "False\n",
      "True\n"
     ]
    }
   ],
   "source": [
    "print(binary_search(array=[1,2,3,4,5,6,7,8,9,10], element=15))\n",
    "print(binary_search(array=[1,2,3,4,5,6,7,8,9,10], element=3))"
   ]
  },
  {
   "cell_type": "markdown",
   "metadata": {},
   "source": [
    "# Binary search with Recursive Version"
   ]
  },
  {
   "cell_type": "code",
   "execution_count": 18,
   "metadata": {},
   "outputs": [],
   "source": [
    "def rec_bin_search(array, element):\n",
    "    \n",
    "    if len(array) == 0: # base case - we cannot search if only 1 element is left\n",
    "        return False\n",
    "    \n",
    "    else:\n",
    "        \n",
    "        mid = int(len(array)/2)\n",
    "        \n",
    "        if array[mid] == element:\n",
    "            return True\n",
    "        else:\n",
    "            if element < array[mid]:\n",
    "                return rec_bin_search(array[:mid], element) # call on upper half\n",
    "            else:\n",
    "                return rec_bin_search(array[mid+1:], element) # call on lower half\n",
    "    \n",
    "    "
   ]
  },
  {
   "cell_type": "code",
   "execution_count": 19,
   "metadata": {},
   "outputs": [
    {
     "name": "stdout",
     "output_type": "stream",
     "text": [
      "False\n",
      "True\n"
     ]
    }
   ],
   "source": [
    "print(rec_bin_search(array=[1,2,3,4,5,6,7,8,9,10], element=15))\n",
    "print(rec_bin_search(array=[1,2,3,4,5,6,7,8,9,10], element=3))"
   ]
  },
  {
   "cell_type": "markdown",
   "metadata": {},
   "source": []
  }
 ],
 "metadata": {
  "kernelspec": {
   "display_name": "Python [conda env:will_tun]",
   "language": "python",
   "name": "conda-env-will_tun-py"
  },
  "language_info": {
   "codemirror_mode": {
    "name": "ipython",
    "version": 3
   },
   "file_extension": ".py",
   "mimetype": "text/x-python",
   "name": "python",
   "nbconvert_exporter": "python",
   "pygments_lexer": "ipython3",
   "version": "3.6.6"
  }
 },
 "nbformat": 4,
 "nbformat_minor": 2
}
