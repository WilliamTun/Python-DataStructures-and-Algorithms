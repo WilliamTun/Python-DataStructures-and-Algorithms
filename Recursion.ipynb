{
 "cells": [
  {
   "cell_type": "markdown",
   "metadata": {},
   "source": [
    "# Recursion\n",
    "https://www.geeksforgeeks.org/recursion/\n",
    "    \n",
    "- 1. recursion is when a function makes one or more calls to itself\n",
    "- 2. when a data structure uses instances of smaller but exact same type of data structure as itself. eg. list of lists\n",
    "\n",
    "\n",
    "Recursion is an alternative for repetitive tasks\n",
    "for which for-loop or while-loop is not ideal"
   ]
  },
  {
   "cell_type": "code",
   "execution_count": null,
   "metadata": {},
   "outputs": [],
   "source": [
    "# Factorial function. \n",
    "# 5! =  5*4*3*2*1\n",
    "# n! = n * (n-1) * (n-2) ... (1)  \n",
    "\n",
    "# (watch out for base cases!)"
   ]
  },
  {
   "cell_type": "code",
   "execution_count": null,
   "metadata": {},
   "outputs": [],
   "source": [
    "def factorial(n):\n",
    "    '''\n",
    "    This function calculates n! factorial\n",
    "    '''\n",
    "    # base case\n",
    "    if n == 0:\n",
    "        return 1\n",
    "    \n",
    "    else: \n",
    "        return n * factorial(n-1)\n",
    "\n",
    "print(factorial(n=2))\n",
    "print(factorial(n=3))\n",
    "print(factorial(n=4))\n",
    "print(factorial(n=5))\n",
    "print(factorial(n=6))\n",
    "print(factorial(n=7))\n",
    "print(factorial(n=8))"
   ]
  },
  {
   "cell_type": "code",
   "execution_count": null,
   "metadata": {},
   "outputs": [],
   "source": [
    "def recursive_sum(n):\n",
    "    # base case\n",
    "    if n ==0:\n",
    "        return 0 \n",
    "    \n",
    "    else:\n",
    "        return n + recursive_sum(n-1)\n",
    "\n",
    "print(recursive_sum(1))\n",
    "print(recursive_sum(2))\n",
    "print(recursive_sum(3))\n",
    "print(recursive_sum(4))\n",
    "print(recursive_sum(5))"
   ]
  },
  {
   "cell_type": "markdown",
   "metadata": {},
   "source": [
    "# Memoization\n",
    "\n",
    "- Memoization with recursion is one major type of \"Dynamic programming\"\n",
    "\n",
    "- In computing, memoization or memoisation is an optimization technique used primarily to speed up computer programs by storing the results of expensive function calls and returning the cached result when the same inputs occur again.\n",
    "\n",
    "- memoization is also known as tabling;[2] see also lookup table.\n",
    "\n",
    "- Memoization is a way to lower a function's time cost in exchange for space cost; that is, memoized functions become optimized for speed in exchange for a higher use of computer memory space. "
   ]
  },
  {
   "cell_type": "markdown",
   "metadata": {},
   "source": [
    "# Problem 1. Reverse a string using a recursive call"
   ]
  },
  {
   "cell_type": "code",
   "execution_count": 4,
   "metadata": {},
   "outputs": [
    {
     "data": {
      "text/plain": [
       "'cba'"
      ]
     },
     "execution_count": 4,
     "metadata": {},
     "output_type": "execute_result"
    }
   ],
   "source": [
    "def reverse_it(s):\n",
    "    # base case\n",
    "    \n",
    "    if len(s) == 1:    # break rule.\n",
    "                       # when there is no more letters left\n",
    "                       # we stop the recursion\n",
    "        return s\n",
    "    # recursion\n",
    "    else:\n",
    "        return reverse_it(s[1:]) + s[0]\n",
    "\n",
    "reverse_it(s=\"abc\")"
   ]
  },
  {
   "cell_type": "markdown",
   "metadata": {},
   "source": [
    "# Problem 2. String permutaiton\n",
    "- find all the permutations of a string\n",
    "\n",
    "- input: s = 'abc'\n",
    "- output: [abc, acb, bac, bca, cab, cba]"
   ]
  },
  {
   "cell_type": "code",
   "execution_count": 4,
   "metadata": {},
   "outputs": [
    {
     "ename": "RecursionError",
     "evalue": "maximum recursion depth exceeded in comparison",
     "output_type": "error",
     "traceback": [
      "\u001b[0;31m---------------------------------------------------------------------------\u001b[0m",
      "\u001b[0;31mRecursionError\u001b[0m                            Traceback (most recent call last)",
      "\u001b[0;32m<ipython-input-4-803094b83057>\u001b[0m in \u001b[0;36m<module>\u001b[0;34m\u001b[0m\n\u001b[1;32m     21\u001b[0m     \u001b[0;32mreturn\u001b[0m \u001b[0mout\u001b[0m\u001b[0;34m\u001b[0m\u001b[0m\n\u001b[1;32m     22\u001b[0m \u001b[0;34m\u001b[0m\u001b[0m\n\u001b[0;32m---> 23\u001b[0;31m \u001b[0mpermutate\u001b[0m\u001b[0;34m(\u001b[0m\u001b[0ms\u001b[0m\u001b[0;34m=\u001b[0m \u001b[0;34m\"abc\"\u001b[0m\u001b[0;34m)\u001b[0m\u001b[0;34m\u001b[0m\u001b[0m\n\u001b[0m",
      "\u001b[0;32m<ipython-input-4-803094b83057>\u001b[0m in \u001b[0;36mpermutate\u001b[0;34m(s)\u001b[0m\n\u001b[1;32m     11\u001b[0m             \u001b[0;31m# for every permutation resulting from step 2 and 3\u001b[0m\u001b[0;34m\u001b[0m\u001b[0;34m\u001b[0m\u001b[0m\n\u001b[1;32m     12\u001b[0m \u001b[0;34m\u001b[0m\u001b[0m\n\u001b[0;32m---> 13\u001b[0;31m             \u001b[0;32mfor\u001b[0m \u001b[0mperm\u001b[0m \u001b[0;32min\u001b[0m \u001b[0mpermutate\u001b[0m\u001b[0;34m(\u001b[0m\u001b[0ms\u001b[0m\u001b[0;34m[\u001b[0m\u001b[0;34m:\u001b[0m\u001b[0;36m1\u001b[0m\u001b[0;34m]\u001b[0m \u001b[0;34m+\u001b[0m \u001b[0ms\u001b[0m\u001b[0;34m[\u001b[0m\u001b[0mi\u001b[0m\u001b[0;34m+\u001b[0m\u001b[0;36m1\u001b[0m\u001b[0;34m]\u001b[0m\u001b[0;34m)\u001b[0m\u001b[0;34m:\u001b[0m\u001b[0;34m\u001b[0m\u001b[0m\n\u001b[0m\u001b[1;32m     14\u001b[0m \u001b[0;34m\u001b[0m\u001b[0m\n\u001b[1;32m     15\u001b[0m                 \u001b[0mprint\u001b[0m\u001b[0;34m(\u001b[0m\u001b[0;34m\"current letter is\"\u001b[0m\u001b[0;34m,\u001b[0m \u001b[0mi\u001b[0m\u001b[0;34m)\u001b[0m\u001b[0;34m\u001b[0m\u001b[0m\n",
      "... last 1 frames repeated, from the frame below ...\n",
      "\u001b[0;32m<ipython-input-4-803094b83057>\u001b[0m in \u001b[0;36mpermutate\u001b[0;34m(s)\u001b[0m\n\u001b[1;32m     11\u001b[0m             \u001b[0;31m# for every permutation resulting from step 2 and 3\u001b[0m\u001b[0;34m\u001b[0m\u001b[0;34m\u001b[0m\u001b[0m\n\u001b[1;32m     12\u001b[0m \u001b[0;34m\u001b[0m\u001b[0m\n\u001b[0;32m---> 13\u001b[0;31m             \u001b[0;32mfor\u001b[0m \u001b[0mperm\u001b[0m \u001b[0;32min\u001b[0m \u001b[0mpermutate\u001b[0m\u001b[0;34m(\u001b[0m\u001b[0ms\u001b[0m\u001b[0;34m[\u001b[0m\u001b[0;34m:\u001b[0m\u001b[0;36m1\u001b[0m\u001b[0;34m]\u001b[0m \u001b[0;34m+\u001b[0m \u001b[0ms\u001b[0m\u001b[0;34m[\u001b[0m\u001b[0mi\u001b[0m\u001b[0;34m+\u001b[0m\u001b[0;36m1\u001b[0m\u001b[0;34m]\u001b[0m\u001b[0;34m)\u001b[0m\u001b[0;34m:\u001b[0m\u001b[0;34m\u001b[0m\u001b[0m\n\u001b[0m\u001b[1;32m     14\u001b[0m \u001b[0;34m\u001b[0m\u001b[0m\n\u001b[1;32m     15\u001b[0m                 \u001b[0mprint\u001b[0m\u001b[0;34m(\u001b[0m\u001b[0;34m\"current letter is\"\u001b[0m\u001b[0;34m,\u001b[0m \u001b[0mi\u001b[0m\u001b[0;34m)\u001b[0m\u001b[0;34m\u001b[0m\u001b[0m\n",
      "\u001b[0;31mRecursionError\u001b[0m: maximum recursion depth exceeded in comparison"
     ]
    }
   ],
   "source": [
    "def permutate(s):\n",
    "    out = []\n",
    "    \n",
    "    # base case\n",
    "    if len(s) == 1:\n",
    "        out = [s]\n",
    "    else:\n",
    "        # for every letter in string\n",
    "        \n",
    "        for i, let in enumerate(s):\n",
    "            # for every permutation resulting from step 2 and 3\n",
    "            \n",
    "            for perm in permutate(s[:1] + s[i+1]):\n",
    "                \n",
    "                print(\"current letter is\", i)\n",
    "                print(\"perm is\", perm)\n",
    "                \n",
    "                # add it to output\n",
    "                out += [let+perm]\n",
    "        \n",
    "    return out\n",
    "\n",
    "permutate(s= \"abc\")"
   ]
  },
  {
   "cell_type": "markdown",
   "metadata": {},
   "source": [
    "# Recursion Fibonnaci Sequence"
   ]
  },
  {
   "cell_type": "code",
   "execution_count": 17,
   "metadata": {},
   "outputs": [
    {
     "name": "stdout",
     "output_type": "stream",
     "text": [
      "0\n",
      "1\n",
      "1\n",
      "2\n",
      "3\n",
      "5\n",
      "8\n",
      "13\n",
      "21\n",
      "34\n"
     ]
    }
   ],
   "source": [
    "def fibonacci_recursive(n):\n",
    "    '''\n",
    "    Generating fibonnaci sequence with recursion\n",
    "    '''\n",
    "    if n == 0 or n == 1:\n",
    "        return(n)\n",
    "    else:\n",
    "        return fibonacci_recursive(n-1) + fibonacci_recursive(n-2) \n",
    "\n",
    "for i in range(0,10):\n",
    "    fib = fibonacci_recursive(n=i)\n",
    "    print(fib)"
   ]
  },
  {
   "cell_type": "code",
   "execution_count": 29,
   "metadata": {},
   "outputs": [
    {
     "name": "stdout",
     "output_type": "stream",
     "text": [
      "0\n",
      "1\n",
      "1\n",
      "2\n",
      "3\n",
      "5\n",
      "8\n",
      "13\n",
      "21\n",
      "34\n"
     ]
    }
   ],
   "source": [
    "# Dynamic programming fibonacci\n",
    "# using Memoiazation to store results\n",
    "\n",
    "def fib_dyn(n):\n",
    "    # Base case\n",
    "    if n==0 or n==1:\n",
    "        return n\n",
    "    # check cache\n",
    "    if cache[n] != None:\n",
    "        return cache[n]\n",
    "    # keep setting cache\n",
    "    cache[n] = fib_dyn(n-1) + fib_dyn(n-2)\n",
    "    \n",
    "    return(cache[n])\n",
    "\n",
    "for i in range(0,10):\n",
    "    \n",
    "    # MEMOIZATION\n",
    "    n = 10\n",
    "    cache = [None] * (n+1)\n",
    "    # ============\n",
    "    fib = fib_dyn(n=i)\n",
    "    print(fib)"
   ]
  },
  {
   "cell_type": "code",
   "execution_count": 24,
   "metadata": {},
   "outputs": [
    {
     "name": "stdout",
     "output_type": "stream",
     "text": [
      "0\n",
      "1\n",
      "1\n",
      "2\n",
      "3\n",
      "5\n",
      "8\n",
      "13\n",
      "21\n",
      "34\n"
     ]
    }
   ],
   "source": [
    "# iterative fibonacci:\n",
    "def fib_iter(n):\n",
    "    a = 0 \n",
    "    b = 1\n",
    "    for i in range(n):\n",
    "        a, b = b, a + b\n",
    "    return(a)\n",
    "\n",
    "\n",
    "for i in range(0,10):\n",
    "    fib = fib_iter(n=i)\n",
    "    print(fib)"
   ]
  },
  {
   "cell_type": "code",
   "execution_count": null,
   "metadata": {},
   "outputs": [],
   "source": []
  },
  {
   "cell_type": "code",
   "execution_count": null,
   "metadata": {},
   "outputs": [],
   "source": []
  }
 ],
 "metadata": {
  "kernelspec": {
   "display_name": "Python [conda env:will_tun]",
   "language": "python",
   "name": "conda-env-will_tun-py"
  },
  "language_info": {
   "codemirror_mode": {
    "name": "ipython",
    "version": 3
   },
   "file_extension": ".py",
   "mimetype": "text/x-python",
   "name": "python",
   "nbconvert_exporter": "python",
   "pygments_lexer": "ipython3",
   "version": "3.6.6"
  }
 },
 "nbformat": 4,
 "nbformat_minor": 2
}
