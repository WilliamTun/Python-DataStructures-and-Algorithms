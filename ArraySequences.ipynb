{
 "cells": [
  {
   "cell_type": "code",
   "execution_count": 2,
   "metadata": {},
   "outputs": [],
   "source": [
    "# Memory of a computer stored in bits\n",
    "# 8 bits = 1 byte \n",
    "# each byte has a unique memory address\n",
    "\n",
    "# "
   ]
  },
  {
   "cell_type": "code",
   "execution_count": 3,
   "metadata": {},
   "outputs": [],
   "source": [
    "# Low Level Arrays\n"
   ]
  },
  {
   "cell_type": "code",
   "execution_count": 1,
   "metadata": {},
   "outputs": [],
   "source": [
    "# Dynamic Arrays\n",
    "# in python we do not need to specify how large the list will be...\n",
    "# this is dynamic. "
   ]
  },
  {
   "cell_type": "code",
   "execution_count": 4,
   "metadata": {},
   "outputs": [
    {
     "name": "stdout",
     "output_type": "stream",
     "text": [
      "length:   0; size in bytes   64\n",
      "length:   1; size in bytes   96\n",
      "length:   2; size in bytes   96\n",
      "length:   3; size in bytes   96\n",
      "length:   4; size in bytes   96\n",
      "length:   5; size in bytes  128\n",
      "length:   6; size in bytes  128\n",
      "length:   7; size in bytes  128\n",
      "length:   8; size in bytes  128\n",
      "length:   9; size in bytes  192\n"
     ]
    }
   ],
   "source": [
    "# coding a dynamic array. \n",
    "\n",
    "import sys\n",
    "\n",
    "n= 10\n",
    "\n",
    "data = []\n",
    "\n",
    "for i in range(n):\n",
    "    \n",
    "    # number of elements\n",
    "    a = len(data)\n",
    "    # size in bytes\n",
    "    b = sys.getsizeof(data)\n",
    "    \n",
    "    print(\"length: {0:3d}; size in bytes {1:4d}\".format(a,b))\n",
    "    \n",
    "    data.append(n)"
   ]
  },
  {
   "cell_type": "code",
   "execution_count": 5,
   "metadata": {},
   "outputs": [],
   "source": [
    "# notice bytes in an array increases in chunks # (memory usage jumps)\n",
    "# as elements are added "
   ]
  },
  {
   "cell_type": "markdown",
   "metadata": {},
   "source": [
    "# amortization \n",
    "- an algorithmic design pattern\n",
    "- allows efficient appending of elements to array\n",
    "\n",
    "- involves allocating memory for a larger array of size,\n",
    "- copy contents of old array to new array\n",
    "- free the old array\n",
    "\n",
    "- overflow means when the array becomes full.\n",
    "- at which point you must allocate more memory for a larger array size"
   ]
  },
  {
   "cell_type": "markdown",
   "metadata": {},
   "source": [
    "# Array interview problem 1. Anagram check\n",
    "\n",
    "- ignore capitalisation\n",
    "- ignore spaces\n",
    "- given two strings, check if they are anagrams...\n"
   ]
  },
  {
   "cell_type": "code",
   "execution_count": 13,
   "metadata": {},
   "outputs": [
    {
     "name": "stdout",
     "output_type": "stream",
     "text": [
      "Anagram positive\n",
      "string 1 and 2 are not anagrams\n"
     ]
    }
   ],
   "source": [
    "def check_anagram(string1, string2):\n",
    "    # ensure all strings are lowercase\n",
    "    string1 = string1.lower()\n",
    "    string2 = string2.lower()\n",
    "    \n",
    "    # ignore spaces\n",
    "    string1 = string1.replace(\" \", \"\")\n",
    "    string2 = string2.replace(\" \", \"\")\n",
    "    \n",
    "    # sort strings \n",
    "    string1 = sorted(string1)\n",
    "    string2 = sorted(string2)\n",
    "    \n",
    "    if string1 == string2:\n",
    "        print(\"Anagram positive\")\n",
    "    else:\n",
    "        print(\"string 1 and 2 are not anagrams\")\n",
    "    \n",
    "    \n",
    "check_anagram(string1=\"Hello t\", string2= \"oellht\")\n",
    "check_anagram(string1=\"Hello tzzzz\", string2= \"oellht\")"
   ]
  },
  {
   "cell_type": "markdown",
   "metadata": {},
   "source": [
    "# Array interview problem 2. Array pair sums\n",
    "- find all the pairs of values in a list that add upto a target value"
   ]
  },
  {
   "cell_type": "code",
   "execution_count": null,
   "metadata": {},
   "outputs": [],
   "source": [
    "# eg. \n",
    "\n",
    "# pair_sum(my_list = [1,3,2,2], target=4)\n",
    "\n",
    "# expected output: \n",
    "\n",
    "# (1,3)  since 1 + 3 = 4 \n",
    "# (2, 2) since 2 + 2 = 4"
   ]
  },
  {
   "cell_type": "code",
   "execution_count": 61,
   "metadata": {},
   "outputs": [
    {
     "data": {
      "text/plain": [
       "'(1, 3) (2, 2)'"
      ]
     },
     "execution_count": 61,
     "metadata": {},
     "output_type": "execute_result"
    }
   ],
   "source": [
    "def pair_sum(my_list, target):\n",
    "    '''\n",
    "    My solution to the pairs problem\n",
    "    '''\n",
    "    pairs_that_sum_to_target = []\n",
    "    for i in range(0, len(my_list)):\n",
    "        for j in range(0, len(my_list)):\n",
    "            if i != j:\n",
    "                # compare permutations of different indexes \n",
    "                val_1 = my_list[i]\n",
    "                val_2 = my_list[j]\n",
    "                \n",
    "                # if value 1 and 2 equals target\n",
    "                if val_1 + val_2 == target:\n",
    "                    \n",
    "                    # collect output in list\n",
    "                    output = (val_1, val_2)\n",
    "                    \n",
    "                    # check if output is already in list. \n",
    "                    if output not in pairs_that_sum_to_target:\n",
    "                        # check if reversed output is in list\n",
    "                        reversed_output = output[::-1]\n",
    "                        if reversed_output not in pairs_that_sum_to_target:\n",
    "                            pairs_that_sum_to_target.append(output)\n",
    "    \n",
    "    #print(\"Pairs that sum up to target:\", pairs_that_sum_to_target)\n",
    "    return(\" \".join(map(str, list(pairs_that_sum_to_target))))\n",
    "\n",
    "pair_sum(my_list=[1,3,2,2], target=4)"
   ]
  },
  {
   "cell_type": "code",
   "execution_count": null,
   "metadata": {},
   "outputs": [],
   "source": [
    "# Look at tutorials solution to pairs problem\n",
    "# then look at profiling both function in terms of LogO. \n",
    "# look at profiling packages. "
   ]
  },
  {
   "cell_type": "code",
   "execution_count": 71,
   "metadata": {},
   "outputs": [
    {
     "data": {
      "text/plain": [
       "'(1, 3) (2, 2)'"
      ]
     },
     "execution_count": 71,
     "metadata": {},
     "output_type": "execute_result"
    }
   ],
   "source": [
    "def pair_sum2(arr, k):\n",
    "    \n",
    "    # edge case - to see if there are less than 2 elements\n",
    "    if len(arr) < 2:\n",
    "        return \n",
    "    \n",
    "    # sets for tracking\n",
    "    seen = set()\n",
    "    output = set()\n",
    "    \n",
    "    for num in arr: # for each number in array\n",
    "        \n",
    "        target = k - num # the other number we are looking for is target - number\n",
    "        # for each of the numbers in the array, we have a target\n",
    "        \n",
    "        # if target has not been seen so far, keep a track of it\n",
    "        if target not in seen:\n",
    "            seen.add(num)\n",
    "        \n",
    "        else:\n",
    "            # target has been seen,\n",
    "            # add the target to the targe \n",
    "            output.add((min(num, target), max(num, target)))\n",
    "    \n",
    "    #return(len(output))\n",
    "    return(\" \".join(map(str, list(output))))\n",
    "    \n",
    "pair_sum2(arr=[1,3,2,2], k=4)"
   ]
  },
  {
   "cell_type": "markdown",
   "metadata": {},
   "source": [
    "# Profiling both my own functions vs tutorial function\n",
    "https://jakevdp.github.io/PythonDataScienceHandbook/01.07-timing-and-profiling.html"
   ]
  },
  {
   "cell_type": "code",
   "execution_count": null,
   "metadata": {},
   "outputs": [],
   "source": [
    "# 1. %timeit does many loops and return summary statistics on time taken"
   ]
  },
  {
   "cell_type": "code",
   "execution_count": 73,
   "metadata": {},
   "outputs": [
    {
     "name": "stdout",
     "output_type": "stream",
     "text": [
      "7.54 µs ± 191 ns per loop (mean ± std. dev. of 7 runs, 100000 loops each)\n"
     ]
    }
   ],
   "source": [
    "%timeit pair_sum(my_list=[1,3,2,2], target=4)"
   ]
  },
  {
   "cell_type": "code",
   "execution_count": 72,
   "metadata": {},
   "outputs": [
    {
     "name": "stdout",
     "output_type": "stream",
     "text": [
      "4.33 µs ± 62 ns per loop (mean ± std. dev. of 7 runs, 100000 loops each)\n"
     ]
    }
   ],
   "source": [
    "%timeit pair_sum2(arr=[1,3,2,2], k=4)"
   ]
  },
  {
   "cell_type": "code",
   "execution_count": null,
   "metadata": {},
   "outputs": [],
   "source": [
    "# 2. %prun"
   ]
  },
  {
   "cell_type": "code",
   "execution_count": 74,
   "metadata": {},
   "outputs": [
    {
     "name": "stdout",
     "output_type": "stream",
     "text": [
      " "
     ]
    }
   ],
   "source": [
    "%prun pair_sum(my_list=[1,3,2,2], target=4)\n"
   ]
  },
  {
   "cell_type": "code",
   "execution_count": null,
   "metadata": {},
   "outputs": [],
   "source": [
    "# 3. memory profiler"
   ]
  },
  {
   "cell_type": "code",
   "execution_count": 76,
   "metadata": {},
   "outputs": [
    {
     "name": "stdout",
     "output_type": "stream",
     "text": [
      "\n",
      "The following command must be run outside of the IPython shell:\n",
      "\n",
      "    $ pip install memory_profiler\n",
      "\n",
      "The Python package manager (pip) can only be used from outside of IPython.\n",
      "Please reissue the `pip` command in a separate terminal or command prompt.\n",
      "\n",
      "See the Python documentation for more information on how to install packages:\n",
      "\n",
      "    https://docs.python.org/3/installing/\n"
     ]
    }
   ],
   "source": [
    "pip install memory_profiler"
   ]
  },
  {
   "cell_type": "markdown",
   "metadata": {},
   "source": [
    "# Array interview problem 3. Find the missing element\n",
    "\n",
    "- given two arrays which are all but similar except for one element - find the one element that distinguishes the two arrays. "
   ]
  },
  {
   "cell_type": "code",
   "execution_count": 85,
   "metadata": {},
   "outputs": [],
   "source": [
    "import random"
   ]
  },
  {
   "cell_type": "code",
   "execution_count": 100,
   "metadata": {},
   "outputs": [
    {
     "name": "stdout",
     "output_type": "stream",
     "text": [
      "4\n"
     ]
    }
   ],
   "source": [
    "# prepare input of shuffled arrays\n",
    "a = [1,2,3,4,5,6,7,8]\n",
    "b = [1,2,3,  5,6,7,8] # missing value 4\n",
    "a1 = random.sample(a, len(a))\n",
    "b1 = random.sample(b, len(b))\n",
    "\n",
    "def find_missing_element(arr1, arr2):\n",
    "    \n",
    "    \n",
    "    arr1 =sorted(arr1)\n",
    "    arr2 =sorted(arr2)\n",
    "    found = False\n",
    "    \n",
    "    # find the smallest array to see which array is missing the item\n",
    "    len_array1 = len(arr1)\n",
    "    len_array2 = len(arr2)\n",
    "    \n",
    "    missing_item = None\n",
    "    for i,j in zip(arr1, arr2):\n",
    "        # find the first time that the pairs do not match\n",
    "        if i != j and found == False:\n",
    "            if len_array1 > len_array2:\n",
    "                missing_item = i\n",
    "                found = True\n",
    "            else: \n",
    "                missing_item = j\n",
    "                found = True\n",
    "    print(missing_item)\n",
    "            \n",
    "            \n",
    "find_missing_element(arr1=a1, arr2=b1)"
   ]
  },
  {
   "cell_type": "markdown",
   "metadata": {},
   "source": [
    "# Array interview problem 4. Find largest continuous sum"
   ]
  },
  {
   "cell_type": "code",
   "execution_count": null,
   "metadata": {},
   "outputs": [],
   "source": []
  },
  {
   "cell_type": "code",
   "execution_count": null,
   "metadata": {},
   "outputs": [],
   "source": []
  },
  {
   "cell_type": "code",
   "execution_count": null,
   "metadata": {},
   "outputs": [],
   "source": []
  }
 ],
 "metadata": {
  "kernelspec": {
   "display_name": "Python [conda env:will_tun]",
   "language": "python",
   "name": "conda-env-will_tun-py"
  },
  "language_info": {
   "codemirror_mode": {
    "name": "ipython",
    "version": 3
   },
   "file_extension": ".py",
   "mimetype": "text/x-python",
   "name": "python",
   "nbconvert_exporter": "python",
   "pygments_lexer": "ipython3",
   "version": "3.6.6"
  }
 },
 "nbformat": 4,
 "nbformat_minor": 2
}
