{
 "cells": [
  {
   "cell_type": "markdown",
   "metadata": {},
   "source": [
    "# Bubble Sort\n",
    "- iteratively gothrough list \n",
    "- compare pairs of items\n",
    "- if item n+1 is bigger than item n, do a swap\n",
    "- the biggest item is \"bubbled\" to the top"
   ]
  },
  {
   "cell_type": "code",
   "execution_count": 2,
   "metadata": {},
   "outputs": [],
   "source": [
    "def bubble_sort(array):\n",
    "    \n",
    "    for n in range(len(array)-1, 0, -1):\n",
    "        for k in range(n):\n",
    "            if array[k] > array[k+1]:\n",
    "                temp = array[k] # place holder\n",
    "                array[k] = array[k+1]\n",
    "                array[k+1] = temp\n",
    "    return(array)"
   ]
  },
  {
   "cell_type": "code",
   "execution_count": 3,
   "metadata": {},
   "outputs": [
    {
     "data": {
      "text/plain": [
       "[1, 2, 3, 4, 5, 6, 7, 8, 13, 20]"
      ]
     },
     "execution_count": 3,
     "metadata": {},
     "output_type": "execute_result"
    }
   ],
   "source": [
    "array_input = [3,2,13,4,6,5,7,8,1,20]\n",
    "bubble_sort(array=array_input)"
   ]
  },
  {
   "cell_type": "markdown",
   "metadata": {},
   "source": [
    "# Selection Sort\n",
    "- makes one exchange through every pass in list\n",
    "- after the first pass, the largest item is in correct place"
   ]
  },
  {
   "cell_type": "code",
   "execution_count": 5,
   "metadata": {},
   "outputs": [],
   "source": [
    "def selection_sort(array):\n",
    "    \n",
    "    for fillslot in range(len(array)-1, 0, -1):\n",
    "        positionOfMax = 0\n",
    "        for location in range(1,fillslot+1):\n",
    "            if array[location] > array[positionOfMax]:\n",
    "                # resent max position\n",
    "                positionOfMax = location \n",
    "        \n",
    "        temp = array[fillslot]\n",
    "        array[fillslot] = array[positionOfMax]\n",
    "        array[positionOfMax] = temp\n",
    "    return(array)\n",
    "        \n",
    "        "
   ]
  },
  {
   "cell_type": "code",
   "execution_count": 6,
   "metadata": {},
   "outputs": [
    {
     "data": {
      "text/plain": [
       "[1, 2, 3, 4, 5, 6, 7, 8, 13, 20]"
      ]
     },
     "execution_count": 6,
     "metadata": {},
     "output_type": "execute_result"
    }
   ],
   "source": [
    "selection_sort(array=array_input)"
   ]
  },
  {
   "cell_type": "markdown",
   "metadata": {},
   "source": [
    "# Insertion Sort\n",
    "- maintain a sorted sublist\n",
    "- we add a new item to the sublist during sorting\n",
    "and check item's size against the sorted sublist\n",
    "- when we add new item into the sublist\n",
    "we shift items greater than new item to the right. \n",
    "- when we reach an item in the sublist that is smaller\n",
    "than the new item, the new item is inserted"
   ]
  },
  {
   "cell_type": "code",
   "execution_count": 3,
   "metadata": {},
   "outputs": [],
   "source": [
    "def insertion_sort(array):\n",
    "    for i in range(1, len(array)):\n",
    "        currentvalue = array[i]\n",
    "        position = i\n",
    "        \n",
    "        # sorted sublist\n",
    "        while position > 0 and array[position-1] > currentvalue:\n",
    "            # if value at sublist position index - 1 is GREATER than current value    \n",
    "            array[position] = array[position - 1] # the current position becomes the bigger value at position i - 1\n",
    "            position = position - 1 # then the new positional index is the previos value\n",
    "            # sliding from right to left of sublist ^\n",
    "            \n",
    "        array[position] = currentvalue # the previous positional position is inserted with the new value\n",
    "    \n",
    "    print(array)"
   ]
  },
  {
   "cell_type": "code",
   "execution_count": 7,
   "metadata": {},
   "outputs": [
    {
     "name": "stdout",
     "output_type": "stream",
     "text": [
      "[1, 5, 7, 10, 37, 50, 100, 4000]\n"
     ]
    }
   ],
   "source": [
    "insertion_sort(array=[100, 50, 37, 4000, 1,5,7,10])"
   ]
  },
  {
   "cell_type": "markdown",
   "metadata": {},
   "source": [
    "# Shell sort\n",
    "- similar to insertion sort\n",
    "- but instead of using one sublist\n",
    "- it uses several sublists"
   ]
  },
  {
   "cell_type": "code",
   "execution_count": 20,
   "metadata": {},
   "outputs": [],
   "source": [
    "def gap_insertion_sort(array, start, gap):\n",
    "    '''\n",
    "    We begin with N over 2 start\n",
    "    - but next time we split the array, it will be n over 4\n",
    "    since the n/2 sublist is split again by 2 \n",
    "    to yield n/4\n",
    "    [      ]\n",
    "    [  ][  ]\n",
    "    [][][][]\n",
    "    '''\n",
    "    \n",
    "    for i in range(start+gap, len(array), gap): # increment by gap steps\n",
    "        currentvalue = array[i]\n",
    "        position = i\n",
    "        \n",
    "        while position >= gap and array[position - gap] > currentvalue:\n",
    "            \n",
    "            array[position] = array[position-gap]\n",
    "            position = position-gap\n",
    "            \n",
    "            \n",
    "        \n",
    "        array[position] = currentvalue\n",
    "        \n",
    "    \n",
    "def shell_sort(array):\n",
    "    sublistcount = int(len(array) / 2) \n",
    "    \n",
    "    while sublistcount > 0:\n",
    "        for start in range(sublistcount):\n",
    "            \n",
    "            gap_insertion_sort(array, start, sublistcount)\n",
    "        \n",
    "        # Print statements to see how shell sort proceeds...\n",
    "        print(\"After increments of size: \", sublistcount)\n",
    "        print(\"The list is \", array)\n",
    "        sublistcount = int(sublistcount/2)\n",
    "    return(array)"
   ]
  },
  {
   "cell_type": "code",
   "execution_count": 21,
   "metadata": {},
   "outputs": [
    {
     "name": "stdout",
     "output_type": "stream",
     "text": [
      "After increments of size:  6\n",
      "The list is  [7, 2, 23, 45, 21, 24, 45, 67, 89, 100, 90, 33]\n",
      "After increments of size:  3\n",
      "The list is  [7, 2, 23, 45, 21, 24, 45, 67, 33, 100, 90, 89]\n",
      "After increments of size:  1\n",
      "The list is  [2, 7, 21, 23, 24, 33, 45, 45, 67, 89, 90, 100]\n"
     ]
    },
    {
     "data": {
      "text/plain": [
       "[2, 7, 21, 23, 24, 33, 45, 45, 67, 89, 90, 100]"
      ]
     },
     "execution_count": 21,
     "metadata": {},
     "output_type": "execute_result"
    }
   ],
   "source": [
    "shell_sort(array=[45, 67, 23, 45, 21, 24, 7, 2, 89, 100, 90, 33])"
   ]
  },
  {
   "cell_type": "markdown",
   "metadata": {},
   "source": [
    "# Merge Sort\n",
    "- is a divide and conquer strategy\n",
    "- it is a recursive algorithm\n",
    "- it recursively splits a list in half\n",
    "- if a list has one item, it is sorted by definition\n",
    "- once the lists are sorted, the MERGE is performed\n",
    "\n",
    "### Merging\n",
    "- process of taking two smaller sorted lists and combining them into a sorted new list"
   ]
  },
  {
   "cell_type": "code",
   "execution_count": null,
   "metadata": {},
   "outputs": [],
   "source": []
  },
  {
   "cell_type": "code",
   "execution_count": null,
   "metadata": {},
   "outputs": [],
   "source": []
  }
 ],
 "metadata": {
  "kernelspec": {
   "display_name": "Python [conda env:will_tun]",
   "language": "python",
   "name": "conda-env-will_tun-py"
  },
  "language_info": {
   "codemirror_mode": {
    "name": "ipython",
    "version": 3
   },
   "file_extension": ".py",
   "mimetype": "text/x-python",
   "name": "python",
   "nbconvert_exporter": "python",
   "pygments_lexer": "ipython3",
   "version": "3.6.6"
  }
 },
 "nbformat": 4,
 "nbformat_minor": 2
}
