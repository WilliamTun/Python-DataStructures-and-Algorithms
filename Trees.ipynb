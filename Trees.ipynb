{
 "cells": [
  {
   "cell_type": "code",
   "execution_count": 1,
   "metadata": {},
   "outputs": [],
   "source": [
    "# Trees\n",
    "# eg. web pages - tree responds to html tags\n",
    "\n",
    "# Node / Key - contains additional information\n",
    "# payload - information held in nodes\n",
    "\n",
    "# Edge - connects two nodes\n",
    "\n",
    "# Root - top node, the only node of tree with no incoming edge\n",
    "# \n",
    "\n",
    "# If each node in tree has maximium two children, we say tree is binary tree\n",
    "\n",
    "\n"
   ]
  },
  {
   "cell_type": "markdown",
   "metadata": {},
   "source": [
    "# Implmenting a tree as list of lists\n",
    "\n",
    "- store value in root node as first element of list\n",
    "- second element of list represents left child\n",
    "- third element of list represents right subtree"
   ]
  },
  {
   "cell_type": "code",
   "execution_count": 5,
   "metadata": {},
   "outputs": [],
   "source": [
    "myTree = [\"a\", # root node\n",
    "          \n",
    "          [\"b\", # left subtree\n",
    "          [\"d\", [], []],    # left-left subtree\n",
    "          [\"e\", [], []] ],  # left-right subtree\n",
    "          \n",
    "          \n",
    "          [\"c\",  # right subtree\n",
    "          ['f', [], []],     # right-left subtree\n",
    "          []            ],   # no right-right subtree\n",
    "          \n",
    "         ]"
   ]
  },
  {
   "cell_type": "code",
   "execution_count": 7,
   "metadata": {},
   "outputs": [],
   "source": [
    "def BinaryTree(r):\n",
    "    return [r, [], []]\n",
    "\n",
    "def insertLeft(root,newBranch):\n",
    "    t = root.pop(1)\n",
    "    if len(t) > 1:\n",
    "        root.insert(1, [newBranch, t, []])\n",
    "    else:\n",
    "        root.insert(1, [newBranch, [], []])\n",
    "    return root\n",
    "\n",
    "\n",
    "def insertRight(root,newBranch):\n",
    "    t = root.pop(2)\n",
    "    if len(t) > 1:\n",
    "        root.insert(2, [newBranch, [], t])\n",
    "    else:\n",
    "        root.insert(2, [newBranch, [], []])\n",
    "    return root\n",
    "\n",
    "def getRootVal(root):\n",
    "    return root[0]\n",
    "\n",
    "def setRootVal(root, newVal):\n",
    "    root[0] = newVal\n",
    "    \n",
    "def getLeftChild(root):\n",
    "    return root[1]\n",
    "\n",
    "def getRightChild(root):\n",
    "    return root[2]"
   ]
  },
  {
   "cell_type": "code",
   "execution_count": 8,
   "metadata": {},
   "outputs": [],
   "source": [
    "r = BinaryTree(3)"
   ]
  },
  {
   "cell_type": "code",
   "execution_count": 9,
   "metadata": {},
   "outputs": [
    {
     "data": {
      "text/plain": [
       "[3, [4, [], []], []]"
      ]
     },
     "execution_count": 9,
     "metadata": {},
     "output_type": "execute_result"
    }
   ],
   "source": [
    "insertLeft(r, 4)"
   ]
  },
  {
   "cell_type": "code",
   "execution_count": 10,
   "metadata": {},
   "outputs": [
    {
     "data": {
      "text/plain": [
       "[3, [5, [4, [], []], []], []]"
      ]
     },
     "execution_count": 10,
     "metadata": {},
     "output_type": "execute_result"
    }
   ],
   "source": [
    "insertLeft(r, 5)"
   ]
  },
  {
   "cell_type": "code",
   "execution_count": 11,
   "metadata": {},
   "outputs": [
    {
     "data": {
      "text/plain": [
       "[3, [5, [4, [], []], []], [6, [], []]]"
      ]
     },
     "execution_count": 11,
     "metadata": {},
     "output_type": "execute_result"
    }
   ],
   "source": [
    "insertRight(r, 6)"
   ]
  },
  {
   "cell_type": "code",
   "execution_count": 12,
   "metadata": {},
   "outputs": [
    {
     "data": {
      "text/plain": [
       "[3, [5, [4, [], []], []], [7, [], [6, [], []]]]"
      ]
     },
     "execution_count": 12,
     "metadata": {},
     "output_type": "execute_result"
    }
   ],
   "source": [
    "insertRight(r, 7)"
   ]
  },
  {
   "cell_type": "markdown",
   "metadata": {},
   "source": [
    "# Implementation of a tree structure via ObjectOrientatedProgramming"
   ]
  },
  {
   "cell_type": "code",
   "execution_count": 49,
   "metadata": {},
   "outputs": [],
   "source": [
    "class BinaryTree_OOP(object):\n",
    "    def __init__(self, rootObj):\n",
    "        self.key = rootObj\n",
    "        self.leftChild = None\n",
    "        self.rightChild = None\n",
    "        \n",
    "    def insertLeft(self, newNode):\n",
    "        \n",
    "        # base case - when no left child is present\n",
    "        if self.leftChild == None:\n",
    "            self.leftChild = BinaryTree_OOP(newNode)\n",
    "        \n",
    "        # insert node between root and existing leftchild\n",
    "        else:\n",
    "            t = BinaryTree_OOP(newNode)\n",
    "            t.leftChild = self.leftChild \n",
    "            self.leftChild = t\n",
    "            \n",
    "    def insertRight(self, newNode):\n",
    "        if self.rightChild == None:\n",
    "            self.rightChild = BinaryTree_OOP(newNode)\n",
    "        else:\n",
    "            t = BinaryTree_OOP(newNode)\n",
    "            t.rightChild = self.rightChild \n",
    "            self.rightChild = t\n",
    "            \n",
    "    \n",
    "    # check methods\n",
    "    def getRightChild(self):\n",
    "        return self.rightChild \n",
    "    \n",
    "    def getLeftChild(self):\n",
    "        return self.leftChild\n",
    "    \n",
    "    def setRootVal(self, obj):\n",
    "        self.key = obj\n",
    "        \n",
    "    def getRootVal(self):\n",
    "        return self.key"
   ]
  },
  {
   "cell_type": "code",
   "execution_count": 50,
   "metadata": {},
   "outputs": [],
   "source": [
    "r = BinaryTree_OOP('a')"
   ]
  },
  {
   "cell_type": "code",
   "execution_count": 51,
   "metadata": {},
   "outputs": [
    {
     "data": {
      "text/plain": [
       "'a'"
      ]
     },
     "execution_count": 51,
     "metadata": {},
     "output_type": "execute_result"
    }
   ],
   "source": [
    "r.getRootVal()"
   ]
  },
  {
   "cell_type": "code",
   "execution_count": 52,
   "metadata": {},
   "outputs": [
    {
     "name": "stdout",
     "output_type": "stream",
     "text": [
      "None\n"
     ]
    }
   ],
   "source": [
    "print(r.getLeftChild())"
   ]
  },
  {
   "cell_type": "code",
   "execution_count": 53,
   "metadata": {},
   "outputs": [],
   "source": [
    "r.insertLeft('b')"
   ]
  },
  {
   "cell_type": "code",
   "execution_count": 55,
   "metadata": {},
   "outputs": [
    {
     "data": {
      "text/plain": [
       "'b'"
      ]
     },
     "execution_count": 55,
     "metadata": {},
     "output_type": "execute_result"
    }
   ],
   "source": [
    "r.getLeftChild().getRootVal()"
   ]
  },
  {
   "cell_type": "markdown",
   "metadata": {},
   "source": [
    "# Tree traversal.\n",
    "\n",
    "### preorder traversal - \n",
    "1. visit rootnode first\n",
    "2. then do a recursive traversal of left subtree\n",
    "3. followed by recursive preorder traversal of right subtree\n",
    "\n",
    "\n",
    "### inorder traversal.\n",
    "1. recursively do an inorder traversal of left subtree\n",
    "2. visit root node\n",
    "3. recursive inorder traversal of right subtree\n",
    "\n",
    "\n",
    "### postorder.\n",
    "1. recursively do an inorder traversal of left subtree\n",
    "2. recursive inorder traversal of right subtree\n",
    "3. visit root node"
   ]
  },
  {
   "cell_type": "markdown",
   "metadata": {},
   "source": [
    "# eg.  PRE-ORDER\n",
    "Book\n",
    "\n",
    "Chapt1   Chapt2\n",
    "\n",
    "\n",
    "Section1.1     Section 1.2    Section 2.2    Section 2.2\n",
    "\n",
    "\n",
    "Section1.2.1    Section 1.2.2      Section 2.2.1   Section 2.2.2\n",
    "\n"
   ]
  },
  {
   "cell_type": "code",
   "execution_count": null,
   "metadata": {},
   "outputs": [],
   "source": []
  },
  {
   "cell_type": "markdown",
   "metadata": {},
   "source": [
    "# Priority Que\n",
    "- Often use with tree datastructures\n",
    "- Variant of stacks, ques and deques\n",
    "- except highest priority items are put to front of que and vice cersa\n",
    "- Classic way of implementing a priority que is with: \n",
    "### BINARY HEAP\n",
    "- which allows enque and deque of items in O(log(n))\n",
    "- 2 variations: \n",
    "- min heap : smallest key value at front\n",
    "- max heap : largest key value at front"
   ]
  },
  {
   "cell_type": "code",
   "execution_count": 63,
   "metadata": {},
   "outputs": [],
   "source": [
    "# List representation of tree - a binary heap! \n",
    "# Node position = P \n",
    "# Left node = 2P\n",
    "# Right node = 2P + 1 \n",
    "\n",
    "# Remember, the heap always swap items up level if the new item value is less than parent\n",
    "# In the small heap structure, the smallest values, when they are inserted\n",
    "# are always compared to parent nodes - and swaps happen\n",
    "# to ensure the smallest values always continue percolating to the top\n",
    "# of the binary heap"
   ]
  },
  {
   "cell_type": "code",
   "execution_count": 69,
   "metadata": {},
   "outputs": [],
   "source": [
    "class BinHeap:\n",
    "    def __init__(self):\n",
    "        self.heapList = [0] # single zero always start a binary heap, we need a place holder for index 0\n",
    "        self.currentSize = 0\n",
    "        \n",
    "    def percUp(self, i):   \n",
    "    # append item to end of the list\n",
    "    # if newly added item is less than parent, it will swap positions\n",
    "    #\n",
    "        while i // 2 > 0 : \n",
    "            if self.healList[i] < self.healList[i // 2]:\n",
    "                tmp = self.heapList[i // 2]\n",
    "                self.heapList[i // 2] = self.heapList[i]\n",
    "                self.heapList[i] = tmp\n",
    "            \n",
    "            i = i // 2\n",
    "            \n",
    "    def insert(self, k):\n",
    "        self.heapList.append(k)\n",
    "        self.currentSize\n",
    "        self.percUp(self.currentSize)\n",
    "        \n",
    "        \n",
    "    # delete Min method\n",
    "    # the root of the tree must be the smallest item in the tree\n",
    "    # finding minimum item is easy\n",
    "    \n",
    "    # after the root is removed, the difficult thing\n",
    "    # is to restore the structure of the tree\n",
    "    # after the root has been removed. \n",
    "    \n",
    "    # two steps for removing root + and replacment\n",
    "    # 1. take last item on list and make it new root to replace removed root\n",
    "    # 2. moving last item maintains heap structure property\n",
    "    #    we have probably destroyed heap order property of binary heap\n",
    "    #    we restore heap order\n",
    "    #    by pushing the new root node down the tree position\n",
    "    #    with a series of swap calls\n",
    "    # to maintain heap order property\n",
    "    # all we need to do is swap the root with it's smallest child\n",
    "    # less than the root. \n",
    "    \n",
    "    def percDown(self, i):\n",
    "        while (i * 2) <= self.currentSize:\n",
    "            mc = self.minChild(i)\n",
    "            if self.heapList[i] > self.heapList[mc]:\n",
    "                tmp = self.heapList[i]\n",
    "                self.heapList[i] = self.heapList[mc]\n",
    "                self.heapList[mc] = tmp\n",
    "            i = mc\n",
    "    \n",
    "    def minChild(self, i):\n",
    "        if i * 2 + 1 > self.currentSize:\n",
    "            return i * 2\n",
    "        else:\n",
    "            if self.heapList[i * 2] < self.heapList[i * 2 + 1]:\n",
    "                return i * 2\n",
    "            else:\n",
    "                return (i * 2) + 1\n",
    "    \n",
    "    \n",
    "    \n",
    "    \n",
    "    \n",
    "    "
   ]
  },
  {
   "cell_type": "markdown",
   "metadata": {},
   "source": [
    "# Binary Search Tree\n",
    "### B.S.T Properties:\n",
    "- Keys less than parent are found in left subtree\n",
    "- Keys more than parent are found in right subtree\n"
   ]
  },
  {
   "cell_type": "code",
   "execution_count": null,
   "metadata": {},
   "outputs": [],
   "source": []
  },
  {
   "cell_type": "code",
   "execution_count": null,
   "metadata": {},
   "outputs": [],
   "source": []
  },
  {
   "cell_type": "code",
   "execution_count": null,
   "metadata": {},
   "outputs": [],
   "source": []
  },
  {
   "cell_type": "code",
   "execution_count": null,
   "metadata": {},
   "outputs": [],
   "source": []
  },
  {
   "cell_type": "code",
   "execution_count": null,
   "metadata": {},
   "outputs": [],
   "source": []
  },
  {
   "cell_type": "code",
   "execution_count": null,
   "metadata": {},
   "outputs": [],
   "source": []
  }
 ],
 "metadata": {
  "kernelspec": {
   "display_name": "Python [conda env:will_tun]",
   "language": "python",
   "name": "conda-env-will_tun-py"
  },
  "language_info": {
   "codemirror_mode": {
    "name": "ipython",
    "version": 3
   },
   "file_extension": ".py",
   "mimetype": "text/x-python",
   "name": "python",
   "nbconvert_exporter": "python",
   "pygments_lexer": "ipython3",
   "version": "3.6.6"
  }
 },
 "nbformat": 4,
 "nbformat_minor": 2
}
